{
 "cells": [
  {
   "cell_type": "code",
   "execution_count": 1,
   "id": "fec85af0",
   "metadata": {
    "execution": {
     "iopub.execute_input": "2023-08-23T18:28:17.572144Z",
     "iopub.status.busy": "2023-08-23T18:28:17.571192Z",
     "iopub.status.idle": "2023-08-23T18:28:43.543474Z",
     "shell.execute_reply": "2023-08-23T18:28:43.541998Z"
    },
    "id": "ckeozeppR7gJ",
    "outputId": "aa6b746a-b40f-4676-917f-0296410e3d1a",
    "papermill": {
     "duration": 26.002241,
     "end_time": "2023-08-23T18:28:43.546440",
     "exception": false,
     "start_time": "2023-08-23T18:28:17.544199",
     "status": "completed"
    },
    "tags": []
   },
   "outputs": [
    {
     "name": "stdout",
     "output_type": "stream",
     "text": [
      "Requirement already satisfied: rouge in d:\\anaconda\\lib\\site-packages (1.0.1)\n",
      "Requirement already satisfied: six in d:\\anaconda\\lib\\site-packages (from rouge) (1.16.0)\n"
     ]
    },
    {
     "name": "stderr",
     "output_type": "stream",
     "text": [
      "DEPRECATION: pytorch-lightning 1.5.10 has a non-standard dependency specifier torch>=1.7.*. pip 23.3 will enforce this behaviour change. A possible replacement is to upgrade to a newer version of pytorch-lightning or contact the author to suggest that they release a version with a conforming dependency specifiers. Discussion can be found at https://github.com/pypa/pip/issues/12063\n"
     ]
    },
    {
     "name": "stdout",
     "output_type": "stream",
     "text": [
      "WARNING:tensorflow:From D:\\anaconda\\Lib\\site-packages\\keras\\src\\losses.py:2976: The name tf.losses.sparse_softmax_cross_entropy is deprecated. Please use tf.compat.v1.losses.sparse_softmax_cross_entropy instead.\n",
      "\n"
     ]
    }
   ],
   "source": [
    "!pip install rouge\n",
    "import numpy as np\n",
    "import pandas as pd\n",
    "import pickle\n",
    "import re\n",
    "import string\n",
    "import csv\n",
    "from sklearn.model_selection import train_test_split\n",
    "\n",
    "import tensorflow as tf\n",
    "from tensorflow import keras\n",
    "from keras.preprocessing.text import Tokenizer\n",
    "from keras.utils import pad_sequences\n",
    "from keras.layers import LSTM, Dense, Input, Embedding, Concatenate, TimeDistributed, Bidirectional, GRU\n",
    "from keras.models import Model\n",
    "from keras.callbacks import EarlyStopping\n",
    "from keras.utils import plot_model\n",
    "from keras.callbacks import ModelCheckpoint\n",
    "from rouge import Rouge"
   ]
  },
  {
   "cell_type": "code",
   "execution_count": 2,
   "id": "af9b9824",
   "metadata": {
    "execution": {
     "iopub.execute_input": "2023-08-23T18:28:43.602048Z",
     "iopub.status.busy": "2023-08-23T18:28:43.600746Z",
     "iopub.status.idle": "2023-08-23T18:28:43.606696Z",
     "shell.execute_reply": "2023-08-23T18:28:43.605353Z"
    },
    "id": "eBTu0PkYTPJz",
    "papermill": {
     "duration": 0.036184,
     "end_time": "2023-08-23T18:28:43.609300",
     "exception": false,
     "start_time": "2023-08-23T18:28:43.573116",
     "status": "completed"
    },
    "tags": []
   },
   "outputs": [],
   "source": [
    "df = pd.read_csv(\"./input/train.csv\")"
   ]
  },
  {
   "cell_type": "code",
   "execution_count": 3,
   "id": "33b5f6e6",
   "metadata": {
    "execution": {
     "iopub.execute_input": "2023-08-23T18:28:43.663695Z",
     "iopub.status.busy": "2023-08-23T18:28:43.662395Z",
     "iopub.status.idle": "2023-08-23T18:28:43.667771Z",
     "shell.execute_reply": "2023-08-23T18:28:43.666940Z"
    },
    "id": "cf_NGlM7aVRH",
    "outputId": "40e4b88e-a81e-4c1c-e9bd-5c8c691fd0be",
    "papermill": {
     "duration": 0.03469,
     "end_time": "2023-08-23T18:28:43.670175",
     "exception": false,
     "start_time": "2023-08-23T18:28:43.635485",
     "status": "completed"
    },
    "tags": []
   },
   "outputs": [],
   "source": [
    "#df.head()"
   ]
  },
  {
   "cell_type": "code",
   "execution_count": 4,
   "id": "2b2b013f",
   "metadata": {
    "execution": {
     "iopub.execute_input": "2023-08-23T18:28:43.723170Z",
     "iopub.status.busy": "2023-08-23T18:28:43.722320Z",
     "iopub.status.idle": "2023-08-23T18:28:44.461426Z",
     "shell.execute_reply": "2023-08-23T18:28:44.459668Z"
    },
    "id": "BBgC6LiLabBz",
    "outputId": "f41ada38-e277-4424-def2-f1fb6b9b55ea",
    "papermill": {
     "duration": 0.767589,
     "end_time": "2023-08-23T18:28:44.463178",
     "exception": true,
     "start_time": "2023-08-23T18:28:43.695589",
     "status": "failed"
    },
    "tags": []
   },
   "outputs": [
    {
     "data": {
      "text/plain": [
       "id            0\n",
       "article       0\n",
       "highlights    0\n",
       "dtype: int64"
      ]
     },
     "execution_count": 4,
     "metadata": {},
     "output_type": "execute_result"
    }
   ],
   "source": [
    "df.isnull().sum()"
   ]
  },
  {
   "cell_type": "code",
   "execution_count": 5,
   "id": "6bcc3ea7",
   "metadata": {
    "id": "qLSOIYOEdSjm",
    "outputId": "fd530e0c-e22d-4781-98b7-313957159ff7",
    "papermill": {
     "duration": null,
     "end_time": null,
     "exception": null,
     "start_time": null,
     "status": "pending"
    },
    "tags": []
   },
   "outputs": [
    {
     "data": {
      "text/plain": [
       "(287113, 3)"
      ]
     },
     "execution_count": 5,
     "metadata": {},
     "output_type": "execute_result"
    }
   ],
   "source": [
    "df.drop_duplicates(inplace=True,ignore_index=True)\n",
    "df.shape"
   ]
  },
  {
   "cell_type": "code",
   "execution_count": 6,
   "id": "863d9d8e",
   "metadata": {
    "id": "1Ky26FT2a6Oy",
    "outputId": "a19f7d8c-0467-42d5-a8fd-74fe48caaec1",
    "papermill": {
     "duration": null,
     "end_time": null,
     "exception": null,
     "start_time": null,
     "status": "pending"
    },
    "tags": []
   },
   "outputs": [
    {
     "data": {
      "text/plain": [
       "137538       48\n",
       "56939       106\n",
       "205333      106\n",
       "100845      117\n",
       "225947      145\n",
       "          ...  \n",
       "174741    12654\n",
       "219866    12656\n",
       "75395     12666\n",
       "7367      14659\n",
       "51997     15925\n",
       "Name: article, Length: 287113, dtype: int64"
      ]
     },
     "execution_count": 6,
     "metadata": {},
     "output_type": "execute_result"
    }
   ],
   "source": [
    "df['article'].apply(lambda x: len(str(x))).sort_values(ascending=True)"
   ]
  },
  {
   "cell_type": "code",
   "execution_count": 7,
   "id": "4e4d5ce5",
   "metadata": {
    "id": "3-QPZQWxbhJW",
    "papermill": {
     "duration": null,
     "end_time": null,
     "exception": null,
     "start_time": null,
     "status": "pending"
    },
    "tags": []
   },
   "outputs": [],
   "source": [
    "df.dropna(inplace=True)\n",
    "df.reset_index(inplace=True,drop=True)"
   ]
  },
  {
   "cell_type": "code",
   "execution_count": 8,
   "id": "c0305759",
   "metadata": {
    "id": "F7J06dTcdPAZ",
    "outputId": "369e6940-b2a0-42ad-da97-cbbbdf21a5a6",
    "papermill": {
     "duration": null,
     "end_time": null,
     "exception": null,
     "start_time": null,
     "status": "pending"
    },
    "tags": []
   },
   "outputs": [
    {
     "data": {
      "text/plain": [
       "137538       48\n",
       "56939       106\n",
       "205333      106\n",
       "100845      117\n",
       "225947      145\n",
       "          ...  \n",
       "174741    12654\n",
       "219866    12656\n",
       "75395     12666\n",
       "7367      14659\n",
       "51997     15925\n",
       "Name: article, Length: 287113, dtype: int64"
      ]
     },
     "execution_count": 8,
     "metadata": {},
     "output_type": "execute_result"
    }
   ],
   "source": [
    "df['article'].apply(lambda x: len(str(x))).sort_values(ascending=True)"
   ]
  },
  {
   "cell_type": "code",
   "execution_count": 9,
   "id": "5fce1319",
   "metadata": {
    "id": "hvzfldmVgaif",
    "outputId": "8033201b-4b37-4b67-eaf4-781f0b4d2a6f",
    "papermill": {
     "duration": null,
     "end_time": null,
     "exception": null,
     "start_time": null,
     "status": "pending"
    },
    "tags": []
   },
   "outputs": [
    {
     "data": {
      "text/plain": [
       "64142       14\n",
       "151493      25\n",
       "137867      28\n",
       "268063      32\n",
       "230207      34\n",
       "          ... \n",
       "3905      4191\n",
       "199305    5419\n",
       "76414     6147\n",
       "206388    6959\n",
       "59756     7388\n",
       "Name: highlights, Length: 287113, dtype: int64"
      ]
     },
     "execution_count": 9,
     "metadata": {},
     "output_type": "execute_result"
    }
   ],
   "source": [
    "df['highlights'].apply(lambda x: len(str(x))).sort_values(ascending=True)"
   ]
  },
  {
   "cell_type": "code",
   "execution_count": 10,
   "id": "a2447c50",
   "metadata": {
    "execution": {
     "iopub.execute_input": "2023-08-23T16:33:27.994416Z",
     "iopub.status.busy": "2023-08-23T16:33:27.993390Z",
     "iopub.status.idle": "2023-08-23T16:33:28.004314Z",
     "shell.execute_reply": "2023-08-23T16:33:28.002907Z",
     "shell.execute_reply.started": "2023-08-23T16:33:27.994371Z"
    },
    "id": "4HEwCpTogppY",
    "papermill": {
     "duration": null,
     "end_time": null,
     "exception": null,
     "start_time": null,
     "status": "pending"
    },
    "tags": []
   },
   "outputs": [],
   "source": [
    "contractions = {\n",
    "\"ain't\": \"am not\",\n",
    "\"aren't\": \"are not\",\n",
    "\"can't\": \"cannot\",\n",
    "\"can't've\": \"cannot have\",\n",
    "\"'cause\": \"because\",\n",
    "\"could've\": \"could have\",\n",
    "\"couldn't\": \"could not\",\n",
    "\"couldn't've\": \"could not have\",\n",
    "\"didn't\": \"did not\",\n",
    "\"doesn't\": \"does not\",\n",
    "\"don't\": \"do not\",\n",
    "\"hadn't\": \"had not\",\n",
    "\"hadn't've\": \"had not have\",\n",
    "\"hasn't\": \"has not\",\n",
    "\"haven't\": \"have not\",\n",
    "\"he'd\": \"he would\",\n",
    "\"he'd've\": \"he would have\",\n",
    "\"he'll\": \"he will\",\n",
    "\"he's\": \"he is\",\n",
    "\"how'd\": \"how did\",\n",
    "\"how'll\": \"how will\",\n",
    "\"how's\": \"how is\",\n",
    "\"i'd\": \"i would\",\n",
    "\"i'll\": \"i will\",\n",
    "\"i'm\": \"i am\",\n",
    "\"i've\": \"i have\",\n",
    "\"isn't\": \"is not\",\n",
    "\"it'd\": \"it would\",\n",
    "\"it'll\": \"it will\",\n",
    "\"it's\": \"it is\",\n",
    "\"let's\": \"let us\",\n",
    "\"ma'am\": \"madam\",\n",
    "\"mayn't\": \"may not\",\n",
    "\"might've\": \"might have\",\n",
    "\"mightn't\": \"might not\",\n",
    "\"must've\": \"must have\",\n",
    "\"mustn't\": \"must not\",\n",
    "\"needn't\": \"need not\",\n",
    "\"oughtn't\": \"ought not\",\n",
    "\"shan't\": \"shall not\",\n",
    "\"sha'n't\": \"shall not\",\n",
    "\"she'd\": \"she would\",\n",
    "\"she'll\": \"she will\",\n",
    "\"she's\": \"she is\",\n",
    "\"should've\": \"should have\",\n",
    "\"shouldn't\": \"should not\",\n",
    "\"that'd\": \"that would\",\n",
    "\"that's\": \"that is\",\n",
    "\"there'd\": \"there had\",\n",
    "\"there's\": \"there is\",\n",
    "\"they'd\": \"they would\",\n",
    "\"they'll\": \"they will\",\n",
    "\"they're\": \"they are\",\n",
    "\"they've\": \"they have\",\n",
    "\"wasn't\": \"was not\",\n",
    "\"we'd\": \"we would\",\n",
    "\"we'll\": \"we will\",\n",
    "\"we're\": \"we are\",\n",
    "\"we've\": \"we have\",\n",
    "\"weren't\": \"were not\",\n",
    "\"what'll\": \"what will\",\n",
    "\"what're\": \"what are\",\n",
    "\"what's\": \"what is\",\n",
    "\"what've\": \"what have\",\n",
    "\"where'd\": \"where did\",\n",
    "\"where's\": \"where is\",\n",
    "\"who'll\": \"who will\",\n",
    "\"who's\": \"who is\",\n",
    "\"won't\": \"will not\",\n",
    "\"wouldn't\": \"would not\",\n",
    "\"you'd\": \"you would\",\n",
    "\"you'll\": \"you will\",\n",
    "\"you're\": \"you are\"\n",
    "}"
   ]
  },
  {
   "cell_type": "code",
   "execution_count": 11,
   "id": "741c88f4",
   "metadata": {
    "execution": {
     "iopub.execute_input": "2023-08-23T16:24:51.024954Z",
     "iopub.status.busy": "2023-08-23T16:24:51.024176Z",
     "iopub.status.idle": "2023-08-23T16:24:51.036021Z",
     "shell.execute_reply": "2023-08-23T16:24:51.034928Z",
     "shell.execute_reply.started": "2023-08-23T16:24:51.024902Z"
    },
    "id": "axHuPET-i0_2",
    "papermill": {
     "duration": null,
     "end_time": null,
     "exception": null,
     "start_time": null,
     "status": "pending"
    },
    "tags": []
   },
   "outputs": [],
   "source": [
    "def clean_text(text, remove_stopwords=True):\n",
    "    text = text.lower()\n",
    "    text = text.split()\n",
    "    tmp = []\n",
    "    for word in text:\n",
    "        if word in contractions:\n",
    "            tmp.append(contractions[word])\n",
    "        else:\n",
    "            tmp.append(word)\n",
    "    text = ' '.join(tmp)\n",
    "\n",
    "    text = re.sub(r'https?:\\/\\/.*[\\r\\n]*', '', text, flags=re.MULTILINE)\n",
    "    text = re.sub(r'\\<a href', ' ', text)\n",
    "    text = re.sub(r'&amp;', '', text)\n",
    "    text = re.sub(r'[_\"\\-;%()|+&=*%.,!?:#$@\\[\\]/]', ' ', text)\n",
    "    text = re.sub(r'<br />', ' ', text)\n",
    "    text = re.sub(r'\\'', ' ', text)\n",
    "\n",
    "    if remove_stopwords:\n",
    "        text = text.split()\n",
    "        stops = set(stopwords.words('english'))\n",
    "        text = [w for w in text if w not in stops]\n",
    "        text = ' '.join(text)\n",
    "\n",
    "    return text"
   ]
  },
  {
   "cell_type": "code",
   "execution_count": 12,
   "id": "da1684dd",
   "metadata": {
    "execution": {
     "iopub.execute_input": "2023-08-23T16:26:06.525792Z",
     "iopub.status.busy": "2023-08-23T16:26:06.525255Z",
     "iopub.status.idle": "2023-08-23T16:26:07.315016Z",
     "shell.execute_reply": "2023-08-23T16:26:07.313515Z",
     "shell.execute_reply.started": "2023-08-23T16:26:06.525751Z"
    },
    "id": "35j3X5orjK2P",
    "outputId": "6a265670-ef2d-4295-daf7-b2bd843d1a65",
    "papermill": {
     "duration": null,
     "end_time": null,
     "exception": null,
     "start_time": null,
     "status": "pending"
    },
    "tags": []
   },
   "outputs": [
    {
     "name": "stderr",
     "output_type": "stream",
     "text": [
      "[nltk_data] Downloading package stopwords to\n",
      "[nltk_data]     C:\\Users\\Dell\\AppData\\Roaming\\nltk_data...\n",
      "[nltk_data]   Package stopwords is already up-to-date!\n"
     ]
    }
   ],
   "source": [
    "import nltk\n",
    "nltk.download('stopwords')\n",
    "from nltk.corpus import stopwords"
   ]
  },
  {
   "cell_type": "code",
   "execution_count": 13,
   "id": "8875df2f",
   "metadata": {
    "id": "PBEJAnEyjXYU",
    "outputId": "16cbd1e5-c90f-4812-9545-2a9fd130f3c8",
    "papermill": {
     "duration": null,
     "end_time": null,
     "exception": null,
     "start_time": null,
     "status": "pending"
    },
    "tags": []
   },
   "outputs": [
    {
     "name": "stdout",
     "output_type": "stream",
     "text": [
      "Cleaning story Complete\n"
     ]
    }
   ],
   "source": [
    "clean_story = []\n",
    "for text in df['article']:\n",
    "    clean_story.append(clean_text(text))\n",
    "print('Cleaning story Complete')"
   ]
  },
  {
   "cell_type": "code",
   "execution_count": 14,
   "id": "c3cb49fc",
   "metadata": {
    "id": "49U7nWoHkLTs",
    "outputId": "2c8ed569-e4b9-4b0f-b326-c79d2a5b7622",
    "papermill": {
     "duration": null,
     "end_time": null,
     "exception": null,
     "start_time": null,
     "status": "pending"
    },
    "tags": []
   },
   "outputs": [
    {
     "name": "stdout",
     "output_type": "stream",
     "text": [
      "Cleaning Summaries Complete\n"
     ]
    }
   ],
   "source": [
    "clean_summaries = []\n",
    "for summary in df['highlights']:\n",
    "    clean_summaries.append(clean_text(summary, remove_stopwords=False))\n",
    "print('Cleaning Summaries Complete')"
   ]
  },
  {
   "cell_type": "code",
   "execution_count": 15,
   "id": "3ebc1b52",
   "metadata": {
    "id": "H5tmHZRVkvGk",
    "outputId": "2df4f9e0-bd1a-4643-ca6c-51a055fe5e2d",
    "papermill": {
     "duration": null,
     "end_time": null,
     "exception": null,
     "start_time": null,
     "status": "pending"
    },
    "tags": []
   },
   "outputs": [
    {
     "name": "stdout",
     "output_type": "stream",
     "text": [
      "287113\n",
      "287113\n"
     ]
    }
   ],
   "source": [
    "print(len(clean_story))\n",
    "print(len(clean_summaries))"
   ]
  },
  {
   "cell_type": "code",
   "execution_count": 16,
   "id": "6cb64058",
   "metadata": {
    "id": "6Rjx_aCJk5EF",
    "papermill": {
     "duration": null,
     "end_time": null,
     "exception": null,
     "start_time": null,
     "status": "pending"
    },
    "tags": []
   },
   "outputs": [],
   "source": [
    "clean_df = pd.DataFrame()\n",
    "clean_df['story'] = clean_story\n",
    "clean_df['summary'] = clean_summaries\n",
    "clean_df['summary'].replace('', np.nan, inplace=True)\n",
    "clean_df.dropna(axis=0, inplace=True)"
   ]
  },
  {
   "cell_type": "code",
   "execution_count": 17,
   "id": "2f2c3afd",
   "metadata": {
    "id": "19C8z-VZI9yp",
    "outputId": "6c293346-d817-49c0-a61d-be49db814526",
    "papermill": {
     "duration": null,
     "end_time": null,
     "exception": null,
     "start_time": null,
     "status": "pending"
    },
    "tags": []
   },
   "outputs": [
    {
     "data": {
      "text/plain": [
       "0    associated press published 14 11 est 25 octobe...\n",
       "1    cnn ralph mata internal affairs lieutenant mia...\n",
       "2    drunk driver killed young woman head crash che...\n",
       "3    cnn breezy sweep pen president vladimir putin ...\n",
       "4    fleetwood team still 100 record sky bet league...\n",
       "5    accused making many fashion faux pas holiday p...\n",
       "6    daily mail reporter published 01 15 est 30 nov...\n",
       "7    daily mail reporter moment train announcer stu...\n",
       "8    number job descriptions waiting darren fletche...\n",
       "9    canberra australia cnn first glance look like ...\n",
       "Name: story, dtype: object"
      ]
     },
     "execution_count": 17,
     "metadata": {},
     "output_type": "execute_result"
    }
   ],
   "source": [
    "clean_df['story'][0:10]"
   ]
  },
  {
   "cell_type": "code",
   "execution_count": 18,
   "id": "89304a41",
   "metadata": {
    "execution": {
     "iopub.execute_input": "2023-08-23T16:26:29.058041Z",
     "iopub.status.busy": "2023-08-23T16:26:29.057646Z",
     "iopub.status.idle": "2023-08-23T16:26:37.480767Z",
     "shell.execute_reply": "2023-08-23T16:26:37.479466Z",
     "shell.execute_reply.started": "2023-08-23T16:26:29.058011Z"
    },
    "id": "AUZyp34utKb2",
    "papermill": {
     "duration": null,
     "end_time": null,
     "exception": null,
     "start_time": null,
     "status": "pending"
    },
    "tags": []
   },
   "outputs": [],
   "source": [
    "clean_df.to_csv(\"./input/CNN_Preprocess.csv\")\n",
    "df2 =pd.read_csv(\"./input/CNN_Preprocess.csv\")"
   ]
  },
  {
   "cell_type": "code",
   "execution_count": 19,
   "id": "92c099ba",
   "metadata": {
    "execution": {
     "iopub.execute_input": "2023-08-23T16:26:43.694513Z",
     "iopub.status.busy": "2023-08-23T16:26:43.694079Z",
     "iopub.status.idle": "2023-08-23T16:26:43.725182Z",
     "shell.execute_reply": "2023-08-23T16:26:43.724122Z",
     "shell.execute_reply.started": "2023-08-23T16:26:43.694479Z"
    },
    "id": "N0eyTJJD8byY",
    "outputId": "b18d5e0c-96eb-4533-cf53-b45d535fa3eb",
    "papermill": {
     "duration": null,
     "end_time": null,
     "exception": null,
     "start_time": null,
     "status": "pending"
    },
    "tags": []
   },
   "outputs": [
    {
     "name": "stdout",
     "output_type": "stream",
     "text": [
      "(287112, 2)\n"
     ]
    },
    {
     "data": {
      "text/html": [
       "<div>\n",
       "<style scoped>\n",
       "    .dataframe tbody tr th:only-of-type {\n",
       "        vertical-align: middle;\n",
       "    }\n",
       "\n",
       "    .dataframe tbody tr th {\n",
       "        vertical-align: top;\n",
       "    }\n",
       "\n",
       "    .dataframe thead th {\n",
       "        text-align: right;\n",
       "    }\n",
       "</style>\n",
       "<table border=\"1\" class=\"dataframe\">\n",
       "  <thead>\n",
       "    <tr style=\"text-align: right;\">\n",
       "      <th></th>\n",
       "      <th>story</th>\n",
       "      <th>summary</th>\n",
       "    </tr>\n",
       "  </thead>\n",
       "  <tbody>\n",
       "    <tr>\n",
       "      <th>0</th>\n",
       "      <td>associated press published 14 11 est 25 octobe...</td>\n",
       "      <td>bishop john folda  of north dakota  is taking ...</td>\n",
       "    </tr>\n",
       "    <tr>\n",
       "      <th>1</th>\n",
       "      <td>cnn ralph mata internal affairs lieutenant mia...</td>\n",
       "      <td>criminal complaint  cop used his role to help ...</td>\n",
       "    </tr>\n",
       "    <tr>\n",
       "      <th>2</th>\n",
       "      <td>drunk driver killed young woman head crash che...</td>\n",
       "      <td>craig eccleston todd  27  had drunk at least t...</td>\n",
       "    </tr>\n",
       "    <tr>\n",
       "      <th>3</th>\n",
       "      <td>cnn breezy sweep pen president vladimir putin ...</td>\n",
       "      <td>nina dos santos says europe must be ready to a...</td>\n",
       "    </tr>\n",
       "    <tr>\n",
       "      <th>4</th>\n",
       "      <td>fleetwood team still 100 record sky bet league...</td>\n",
       "      <td>fleetwood top of league one after 2 0 win at s...</td>\n",
       "    </tr>\n",
       "  </tbody>\n",
       "</table>\n",
       "</div>"
      ],
      "text/plain": [
       "                                               story  \\\n",
       "0  associated press published 14 11 est 25 octobe...   \n",
       "1  cnn ralph mata internal affairs lieutenant mia...   \n",
       "2  drunk driver killed young woman head crash che...   \n",
       "3  cnn breezy sweep pen president vladimir putin ...   \n",
       "4  fleetwood team still 100 record sky bet league...   \n",
       "\n",
       "                                             summary  \n",
       "0  bishop john folda  of north dakota  is taking ...  \n",
       "1  criminal complaint  cop used his role to help ...  \n",
       "2  craig eccleston todd  27  had drunk at least t...  \n",
       "3  nina dos santos says europe must be ready to a...  \n",
       "4  fleetwood top of league one after 2 0 win at s...  "
      ]
     },
     "execution_count": 19,
     "metadata": {},
     "output_type": "execute_result"
    }
   ],
   "source": [
    "df2 = df2.drop(['Unnamed: 0'],axis=1)\n",
    "\n",
    "print(df2.shape)\n",
    "df2.head()"
   ]
  },
  {
   "cell_type": "code",
   "execution_count": 20,
   "id": "97d39fa0",
   "metadata": {
    "execution": {
     "iopub.execute_input": "2023-08-23T16:26:55.890591Z",
     "iopub.status.busy": "2023-08-23T16:26:55.890179Z",
     "iopub.status.idle": "2023-08-23T16:26:59.925747Z",
     "shell.execute_reply": "2023-08-23T16:26:59.924493Z",
     "shell.execute_reply.started": "2023-08-23T16:26:55.890557Z"
    },
    "id": "J1to1U4b5q6J",
    "papermill": {
     "duration": null,
     "end_time": null,
     "exception": null,
     "start_time": null,
     "status": "pending"
    },
    "tags": []
   },
   "outputs": [],
   "source": [
    "final_story =[]\n",
    "final_summary =[]\n",
    "\n",
    "for i, sty in enumerate(df2['story']):\n",
    "    sty_len = len(sty.split())\n",
    "    sumy_len = len(df2['summary'][i].split())\n",
    "  #print(\"story & summary len...\",sty_len,sumy_len)\n",
    "    if (sty_len > sumy_len) & (sty_len >50) & (sty_len <=300) & (sumy_len <=50):\n",
    "        final_story.append(sty)\n",
    "        final_summary.append(df2['summary'][i])"
   ]
  },
  {
   "cell_type": "code",
   "execution_count": 21,
   "id": "1db88f6c",
   "metadata": {
    "execution": {
     "iopub.execute_input": "2023-08-23T16:27:02.688547Z",
     "iopub.status.busy": "2023-08-23T16:27:02.687374Z",
     "iopub.status.idle": "2023-08-23T16:27:02.695018Z",
     "shell.execute_reply": "2023-08-23T16:27:02.693430Z",
     "shell.execute_reply.started": "2023-08-23T16:27:02.688503Z"
    },
    "id": "Fm7a7Xmv53Ro",
    "outputId": "88570b5c-6579-4222-bc26-5b089cfd7876",
    "papermill": {
     "duration": null,
     "end_time": null,
     "exception": null,
     "start_time": null,
     "status": "pending"
    },
    "tags": []
   },
   "outputs": [
    {
     "name": "stdout",
     "output_type": "stream",
     "text": [
      "74282\n",
      "74282\n"
     ]
    }
   ],
   "source": [
    "print(len(final_story))\n",
    "print(len(final_summary))"
   ]
  },
  {
   "cell_type": "code",
   "execution_count": 22,
   "id": "ed8e37ef",
   "metadata": {
    "id": "882Fxm1EnTmi",
    "papermill": {
     "duration": null,
     "end_time": null,
     "exception": null,
     "start_time": null,
     "status": "pending"
    },
    "tags": []
   },
   "outputs": [],
   "source": [
    "#clean_df['summary'] = clean_df['summary'].apply(lambda x: '<sostok>' + ' ' + x + ' ' + '<eostok>')"
   ]
  },
  {
   "cell_type": "code",
   "execution_count": 23,
   "id": "d1b8c46c",
   "metadata": {
    "id": "wMX2_v_RnaW7",
    "papermill": {
     "duration": null,
     "end_time": null,
     "exception": null,
     "start_time": null,
     "status": "pending"
    },
    "tags": []
   },
   "outputs": [],
   "source": [
    "#clean_df['summary'][0]"
   ]
  },
  {
   "cell_type": "code",
   "execution_count": 24,
   "id": "f225ab53",
   "metadata": {
    "execution": {
     "iopub.execute_input": "2023-08-23T16:27:10.156795Z",
     "iopub.status.busy": "2023-08-23T16:27:10.156342Z",
     "iopub.status.idle": "2023-08-23T16:27:10.175186Z",
     "shell.execute_reply": "2023-08-23T16:27:10.174194Z",
     "shell.execute_reply.started": "2023-08-23T16:27:10.156760Z"
    },
    "id": "rRHHuIVw-h6K",
    "outputId": "53fdf7da-aec0-45c8-8b9e-8be22044f652",
    "papermill": {
     "duration": null,
     "end_time": null,
     "exception": null,
     "start_time": null,
     "status": "pending"
    },
    "tags": []
   },
   "outputs": [
    {
     "data": {
      "text/html": [
       "<div>\n",
       "<style scoped>\n",
       "    .dataframe tbody tr th:only-of-type {\n",
       "        vertical-align: middle;\n",
       "    }\n",
       "\n",
       "    .dataframe tbody tr th {\n",
       "        vertical-align: top;\n",
       "    }\n",
       "\n",
       "    .dataframe thead th {\n",
       "        text-align: right;\n",
       "    }\n",
       "</style>\n",
       "<table border=\"1\" class=\"dataframe\">\n",
       "  <thead>\n",
       "    <tr style=\"text-align: right;\">\n",
       "      <th></th>\n",
       "      <th>story</th>\n",
       "      <th>summary</th>\n",
       "    </tr>\n",
       "  </thead>\n",
       "  <tbody>\n",
       "    <tr>\n",
       "      <th>0</th>\n",
       "      <td>associated press published 14 11 est 25 octobe...</td>\n",
       "      <td>bishop john folda  of north dakota  is taking ...</td>\n",
       "    </tr>\n",
       "    <tr>\n",
       "      <th>1</th>\n",
       "      <td>cnn ralph mata internal affairs lieutenant mia...</td>\n",
       "      <td>criminal complaint  cop used his role to help ...</td>\n",
       "    </tr>\n",
       "  </tbody>\n",
       "</table>\n",
       "</div>"
      ],
      "text/plain": [
       "                                               story  \\\n",
       "0  associated press published 14 11 est 25 octobe...   \n",
       "1  cnn ralph mata internal affairs lieutenant mia...   \n",
       "\n",
       "                                             summary  \n",
       "0  bishop john folda  of north dakota  is taking ...  \n",
       "1  criminal complaint  cop used his role to help ...  "
      ]
     },
     "execution_count": 24,
     "metadata": {},
     "output_type": "execute_result"
    }
   ],
   "source": [
    "df_final=pd.DataFrame({'story':final_story,'summary':final_summary})\n",
    "df_final.head(2)"
   ]
  },
  {
   "cell_type": "code",
   "execution_count": 25,
   "id": "64bed36f",
   "metadata": {
    "execution": {
     "iopub.execute_input": "2023-08-23T16:27:15.752838Z",
     "iopub.status.busy": "2023-08-23T16:27:15.752384Z",
     "iopub.status.idle": "2023-08-23T16:27:15.778734Z",
     "shell.execute_reply": "2023-08-23T16:27:15.777193Z",
     "shell.execute_reply.started": "2023-08-23T16:27:15.752803Z"
    },
    "id": "h5koOzqhKB1k",
    "outputId": "afbbdd02-bc1f-499c-803c-491e956b9166",
    "papermill": {
     "duration": null,
     "end_time": null,
     "exception": null,
     "start_time": null,
     "status": "pending"
    },
    "tags": []
   },
   "outputs": [
    {
     "data": {
      "text/html": [
       "<div>\n",
       "<style scoped>\n",
       "    .dataframe tbody tr th:only-of-type {\n",
       "        vertical-align: middle;\n",
       "    }\n",
       "\n",
       "    .dataframe tbody tr th {\n",
       "        vertical-align: top;\n",
       "    }\n",
       "\n",
       "    .dataframe thead th {\n",
       "        text-align: right;\n",
       "    }\n",
       "</style>\n",
       "<table border=\"1\" class=\"dataframe\">\n",
       "  <thead>\n",
       "    <tr style=\"text-align: right;\">\n",
       "      <th></th>\n",
       "      <th>story</th>\n",
       "      <th>summary</th>\n",
       "    </tr>\n",
       "  </thead>\n",
       "  <tbody>\n",
       "    <tr>\n",
       "      <th>0</th>\n",
       "      <td>associated press published 14 11 est 25 octobe...</td>\n",
       "      <td>&lt;sostok&gt; bishop john folda  of north dakota  i...</td>\n",
       "    </tr>\n",
       "    <tr>\n",
       "      <th>1</th>\n",
       "      <td>cnn ralph mata internal affairs lieutenant mia...</td>\n",
       "      <td>&lt;sostok&gt; criminal complaint  cop used his role...</td>\n",
       "    </tr>\n",
       "  </tbody>\n",
       "</table>\n",
       "</div>"
      ],
      "text/plain": [
       "                                               story  \\\n",
       "0  associated press published 14 11 est 25 octobe...   \n",
       "1  cnn ralph mata internal affairs lieutenant mia...   \n",
       "\n",
       "                                             summary  \n",
       "0  <sostok> bishop john folda  of north dakota  i...  \n",
       "1  <sostok> criminal complaint  cop used his role...  "
      ]
     },
     "execution_count": 25,
     "metadata": {},
     "output_type": "execute_result"
    }
   ],
   "source": [
    "df_final['summary'] = df_final['summary'].apply(lambda x: '<sostok>' + ' ' + x + ' ' + '<eostok>')\n",
    "df_final.head(2)"
   ]
  },
  {
   "cell_type": "code",
   "execution_count": 26,
   "id": "abb3abb6",
   "metadata": {
    "execution": {
     "iopub.execute_input": "2023-08-23T16:27:31.355010Z",
     "iopub.status.busy": "2023-08-23T16:27:31.354610Z",
     "iopub.status.idle": "2023-08-23T16:27:31.365472Z",
     "shell.execute_reply": "2023-08-23T16:27:31.364202Z",
     "shell.execute_reply.started": "2023-08-23T16:27:31.354978Z"
    },
    "id": "9hgd1PoYnc--",
    "papermill": {
     "duration": null,
     "end_time": null,
     "exception": null,
     "start_time": null,
     "status": "pending"
    },
    "tags": []
   },
   "outputs": [],
   "source": [
    "train_x, test_x, train_y, test_y = train_test_split(df_final['story'], df_final['summary'], test_size=0.2, random_state=0)"
   ]
  },
  {
   "cell_type": "code",
   "execution_count": 27,
   "id": "0044f88b",
   "metadata": {
    "execution": {
     "iopub.execute_input": "2023-08-23T16:27:36.399030Z",
     "iopub.status.busy": "2023-08-23T16:27:36.398554Z",
     "iopub.status.idle": "2023-08-23T16:27:38.714434Z",
     "shell.execute_reply": "2023-08-23T16:27:38.713173Z",
     "shell.execute_reply.started": "2023-08-23T16:27:36.398993Z"
    },
    "id": "wXsqVpXwnm8P",
    "papermill": {
     "duration": null,
     "end_time": null,
     "exception": null,
     "start_time": null,
     "status": "pending"
    },
    "tags": []
   },
   "outputs": [],
   "source": [
    "t_tokenizer = Tokenizer()\n",
    "t_tokenizer.fit_on_texts(list(train_x))\n",
    "\n",
    "thresh = 4\n",
    "count = 0\n",
    "total_count = 0\n",
    "frequency = 0\n",
    "total_frequency = 0\n",
    "\n",
    "for key, value in t_tokenizer.word_counts.items():\n",
    "    total_count += 1\n",
    "    total_frequency += value\n",
    "    if value < thresh:\n",
    "        count += 1\n",
    "        frequency += value\n",
    "\n"
   ]
  },
  {
   "cell_type": "code",
   "execution_count": 28,
   "id": "210ba262",
   "metadata": {
    "execution": {
     "iopub.execute_input": "2023-08-23T16:27:49.992530Z",
     "iopub.status.busy": "2023-08-23T16:27:49.992132Z",
     "iopub.status.idle": "2023-08-23T16:27:49.999537Z",
     "shell.execute_reply": "2023-08-23T16:27:49.998101Z",
     "shell.execute_reply.started": "2023-08-23T16:27:49.992489Z"
    },
    "id": "Mapx_Txnn0zf",
    "outputId": "71d33ed7-6333-464d-fafe-f544c849f0bb",
    "papermill": {
     "duration": null,
     "end_time": null,
     "exception": null,
     "start_time": null,
     "status": "pending"
    },
    "tags": []
   },
   "outputs": [
    {
     "name": "stdout",
     "output_type": "stream",
     "text": [
      "% of rare words in vocabulary:  58.488817030450015\n",
      "Total Coverage of rare words:  1.286727795064684\n",
      "Text Vocab:  77024\n"
     ]
    }
   ],
   "source": [
    "print('% of rare words in vocabulary: ', (count/total_count)*100.0)\n",
    "print('Total Coverage of rare words: ', (frequency/total_frequency)*100.0)\n",
    "t_max_features = total_count - count\n",
    "print('Text Vocab: ', t_max_features)"
   ]
  },
  {
   "cell_type": "code",
   "execution_count": 29,
   "id": "a18a6fe5",
   "metadata": {
    "execution": {
     "iopub.execute_input": "2023-08-23T16:27:56.644684Z",
     "iopub.status.busy": "2023-08-23T16:27:56.644326Z",
     "iopub.status.idle": "2023-08-23T16:27:57.150799Z",
     "shell.execute_reply": "2023-08-23T16:27:57.149635Z",
     "shell.execute_reply.started": "2023-08-23T16:27:56.644656Z"
    },
    "id": "USL7qkDqoD3f",
    "papermill": {
     "duration": null,
     "end_time": null,
     "exception": null,
     "start_time": null,
     "status": "pending"
    },
    "tags": []
   },
   "outputs": [],
   "source": [
    "s_tokenizer = Tokenizer()\n",
    "s_tokenizer.fit_on_texts(list(train_y))\n",
    "\n",
    "thresh = 6\n",
    "count = 0\n",
    "total_count = 0\n",
    "frequency = 0\n",
    "total_frequency = 0\n",
    "\n",
    "for key, value in s_tokenizer.word_counts.items():\n",
    "    total_count += 1\n",
    "    total_frequency += value\n",
    "    if value < thresh:\n",
    "        count += 1\n",
    "        frequency += value"
   ]
  },
  {
   "cell_type": "code",
   "execution_count": 30,
   "id": "eb916204",
   "metadata": {
    "execution": {
     "iopub.execute_input": "2023-08-23T16:28:04.103922Z",
     "iopub.status.busy": "2023-08-23T16:28:04.103435Z",
     "iopub.status.idle": "2023-08-23T16:28:04.111304Z",
     "shell.execute_reply": "2023-08-23T16:28:04.109501Z",
     "shell.execute_reply.started": "2023-08-23T16:28:04.103883Z"
    },
    "id": "KOlJYIfPoQQs",
    "outputId": "fc677c52-717c-4557-db6c-323ccff8fe76",
    "papermill": {
     "duration": null,
     "end_time": null,
     "exception": null,
     "start_time": null,
     "status": "pending"
    },
    "tags": []
   },
   "outputs": [
    {
     "name": "stdout",
     "output_type": "stream",
     "text": [
      "% of rare words in vocabulary:  71.48471238555881\n",
      "Total Coverage of rare words:  3.855894297662349\n",
      "Summary Vocab:  19809\n"
     ]
    }
   ],
   "source": [
    "print('% of rare words in vocabulary: ', (count/total_count)*100.0)\n",
    "print('Total Coverage of rare words: ', (frequency/total_frequency)*100.0)\n",
    "s_max_features = total_count-count\n",
    "print('Summary Vocab: ', s_max_features)"
   ]
  },
  {
   "cell_type": "code",
   "execution_count": 31,
   "id": "72bba04c",
   "metadata": {
    "execution": {
     "iopub.execute_input": "2023-08-23T16:28:11.162480Z",
     "iopub.status.busy": "2023-08-23T16:28:11.162016Z",
     "iopub.status.idle": "2023-08-23T16:28:11.168357Z",
     "shell.execute_reply": "2023-08-23T16:28:11.166930Z",
     "shell.execute_reply.started": "2023-08-23T16:28:11.162444Z"
    },
    "id": "OfEZpHJRoU_J",
    "papermill": {
     "duration": null,
     "end_time": null,
     "exception": null,
     "start_time": null,
     "status": "pending"
    },
    "tags": []
   },
   "outputs": [],
   "source": [
    "maxlen_text = 300\n",
    "maxlen_summ = 50"
   ]
  },
  {
   "cell_type": "code",
   "execution_count": 32,
   "id": "db9d29e4",
   "metadata": {
    "execution": {
     "iopub.execute_input": "2023-08-23T16:28:15.411450Z",
     "iopub.status.busy": "2023-08-23T16:28:15.411040Z",
     "iopub.status.idle": "2023-08-23T16:28:19.397187Z",
     "shell.execute_reply": "2023-08-23T16:28:19.395930Z",
     "shell.execute_reply.started": "2023-08-23T16:28:15.411419Z"
    },
    "id": "FH7bUR3RonFz",
    "papermill": {
     "duration": null,
     "end_time": null,
     "exception": null,
     "start_time": null,
     "status": "pending"
    },
    "tags": []
   },
   "outputs": [],
   "source": [
    "val_x = test_x\n",
    "t_tokenizer = Tokenizer(num_words=t_max_features)\n",
    "t_tokenizer.fit_on_texts(list(train_x))\n",
    "train_x = t_tokenizer.texts_to_sequences(train_x)\n",
    "val_x = t_tokenizer.texts_to_sequences(val_x)\n",
    "\n",
    "train_x = pad_sequences(train_x, maxlen=maxlen_text, padding='post')\n",
    "val_x = pad_sequences(val_x, maxlen=maxlen_text, padding='post')"
   ]
  },
  {
   "cell_type": "code",
   "execution_count": 33,
   "id": "b85865f0",
   "metadata": {
    "execution": {
     "iopub.execute_input": "2023-08-23T16:28:35.820860Z",
     "iopub.status.busy": "2023-08-23T16:28:35.820104Z",
     "iopub.status.idle": "2023-08-23T16:28:36.736673Z",
     "shell.execute_reply": "2023-08-23T16:28:36.735191Z",
     "shell.execute_reply.started": "2023-08-23T16:28:35.820813Z"
    },
    "id": "qtgEYbA9ovan",
    "papermill": {
     "duration": null,
     "end_time": null,
     "exception": null,
     "start_time": null,
     "status": "pending"
    },
    "tags": []
   },
   "outputs": [],
   "source": [
    "val_y = test_y\n",
    "s_tokenizer = Tokenizer(num_words=s_max_features)\n",
    "s_tokenizer.fit_on_texts(list(train_y))\n",
    "train_y = s_tokenizer.texts_to_sequences(train_y)\n",
    "val_y = s_tokenizer.texts_to_sequences(val_y)\n",
    "\n",
    "train_y = pad_sequences(train_y, maxlen=maxlen_summ, padding='post')\n",
    "val_y = pad_sequences(val_y, maxlen=maxlen_summ, padding='post')"
   ]
  },
  {
   "cell_type": "code",
   "execution_count": 34,
   "id": "5543fbde",
   "metadata": {
    "execution": {
     "iopub.execute_input": "2023-08-23T16:28:55.320250Z",
     "iopub.status.busy": "2023-08-23T16:28:55.319776Z",
     "iopub.status.idle": "2023-08-23T16:28:55.327545Z",
     "shell.execute_reply": "2023-08-23T16:28:55.325791Z",
     "shell.execute_reply.started": "2023-08-23T16:28:55.320208Z"
    },
    "id": "Zk-NvgQ1o42f",
    "outputId": "fe11df6c-7332-4ce7-fbc0-a92192e02c06",
    "papermill": {
     "duration": null,
     "end_time": null,
     "exception": null,
     "start_time": null,
     "status": "pending"
    },
    "tags": []
   },
   "outputs": [
    {
     "name": "stdout",
     "output_type": "stream",
     "text": [
      "Training Sequence (59425, 300)\n",
      "Target Values Shape (59425, 50)\n",
      "Test Sequence (14857, 300)\n",
      "Target Test Shape (14857, 50)\n"
     ]
    }
   ],
   "source": [
    "print(\"Training Sequence\", train_x.shape)\n",
    "print('Target Values Shape', train_y.shape)\n",
    "print('Test Sequence', val_x.shape)\n",
    "print('Target Test Shape', val_y.shape)"
   ]
  },
  {
   "cell_type": "code",
   "execution_count": 35,
   "id": "d5f442af",
   "metadata": {
    "execution": {
     "iopub.execute_input": "2023-08-23T16:29:01.741949Z",
     "iopub.status.busy": "2023-08-23T16:29:01.741469Z",
     "iopub.status.idle": "2023-08-23T16:29:12.815552Z",
     "shell.execute_reply": "2023-08-23T16:29:12.814247Z",
     "shell.execute_reply.started": "2023-08-23T16:29:01.741912Z"
    },
    "id": "9QmEkWeno5EM",
    "papermill": {
     "duration": null,
     "end_time": null,
     "exception": null,
     "start_time": null,
     "status": "pending"
    },
    "tags": []
   },
   "outputs": [],
   "source": [
    "embeding_index = {}\n",
    "embed_dim = 100\n",
    "with open('glove.6B.100d.txt', encoding=\"utf8\") as f:\n",
    "    for line in f:\n",
    "        values = line.split()\n",
    "        word = values[0]\n",
    "        coefs = np.asarray(values[1:], dtype='float32')\n",
    "        embeding_index[word] = coefs"
   ]
  },
  {
   "cell_type": "code",
   "execution_count": 36,
   "id": "d2130b18",
   "metadata": {
    "execution": {
     "iopub.execute_input": "2023-08-23T16:29:17.200430Z",
     "iopub.status.busy": "2023-08-23T16:29:17.199976Z",
     "iopub.status.idle": "2023-08-23T16:29:17.302482Z",
     "shell.execute_reply": "2023-08-23T16:29:17.301242Z",
     "shell.execute_reply.started": "2023-08-23T16:29:17.200397Z"
    },
    "id": "UyfMIA5npALn",
    "papermill": {
     "duration": null,
     "end_time": null,
     "exception": null,
     "start_time": null,
     "status": "pending"
    },
    "tags": []
   },
   "outputs": [],
   "source": [
    "t_embed = np.zeros((t_max_features, embed_dim))\n",
    "for word, i in t_tokenizer.word_index.items():\n",
    "    vec = embeding_index.get(word)\n",
    "    if i < t_max_features and vec is not None:\n",
    "        t_embed[i] = vec"
   ]
  },
  {
   "cell_type": "code",
   "execution_count": 37,
   "id": "60253aa2",
   "metadata": {
    "execution": {
     "iopub.execute_input": "2023-08-23T16:29:30.061761Z",
     "iopub.status.busy": "2023-08-23T16:29:30.060179Z",
     "iopub.status.idle": "2023-08-23T16:29:30.100928Z",
     "shell.execute_reply": "2023-08-23T16:29:30.099407Z",
     "shell.execute_reply.started": "2023-08-23T16:29:30.061690Z"
    },
    "id": "cmIsIco7pboV",
    "papermill": {
     "duration": null,
     "end_time": null,
     "exception": null,
     "start_time": null,
     "status": "pending"
    },
    "tags": []
   },
   "outputs": [],
   "source": [
    "s_embed = np.zeros((s_max_features, embed_dim))\n",
    "for word, i in s_tokenizer.word_index.items():\n",
    "    vec = embeding_index.get(word)\n",
    "    if i < s_max_features and vec is not None:\n",
    "        s_embed[i] = vec"
   ]
  },
  {
   "cell_type": "code",
   "execution_count": 38,
   "id": "0d671f12",
   "metadata": {
    "execution": {
     "iopub.execute_input": "2023-08-23T17:21:29.053194Z",
     "iopub.status.busy": "2023-08-23T17:21:29.051454Z",
     "iopub.status.idle": "2023-08-23T17:21:29.058601Z",
     "shell.execute_reply": "2023-08-23T17:21:29.057367Z",
     "shell.execute_reply.started": "2023-08-23T17:21:29.053144Z"
    },
    "id": "4JP_fr3Npew4",
    "papermill": {
     "duration": null,
     "end_time": null,
     "exception": null,
     "start_time": null,
     "status": "pending"
    },
    "tags": []
   },
   "outputs": [],
   "source": [
    "#s_tokenizer.index_word"
   ]
  },
  {
   "cell_type": "code",
   "execution_count": 39,
   "id": "c3edeb6a",
   "metadata": {
    "execution": {
     "iopub.execute_input": "2023-08-22T17:37:25.948945Z",
     "iopub.status.busy": "2023-08-22T17:37:25.948371Z",
     "iopub.status.idle": "2023-08-22T17:37:27.130454Z",
     "shell.execute_reply": "2023-08-22T17:37:27.129163Z",
     "shell.execute_reply.started": "2023-08-22T17:37:25.948906Z"
    },
    "id": "ENualW8hpj9b",
    "outputId": "c8e1435a-66f4-425d-f9be-2c64d06457ad",
    "papermill": {
     "duration": null,
     "end_time": null,
     "exception": null,
     "start_time": null,
     "status": "pending"
    },
    "tags": []
   },
   "outputs": [
    {
     "name": "stdout",
     "output_type": "stream",
     "text": [
      "WARNING:tensorflow:From D:\\anaconda\\Lib\\site-packages\\keras\\src\\backend.py:1398: The name tf.executing_eagerly_outside_functions is deprecated. Please use tf.compat.v1.executing_eagerly_outside_functions instead.\n",
      "\n",
      "Model: \"model\"\n",
      "__________________________________________________________________________________________________\n",
      " Layer (type)                Output Shape                 Param #   Connected to                  \n",
      "==================================================================================================\n",
      " input_1 (InputLayer)        [(None, 300)]                0         []                            \n",
      "                                                                                                  \n",
      " embedding (Embedding)       (None, 300, 100)             7702400   ['input_1[0][0]']             \n",
      "                                                                                                  \n",
      " input_2 (InputLayer)        [(None, None)]               0         []                            \n",
      "                                                                                                  \n",
      " bidirectional (Bidirection  [(None, 256),                234496    ['embedding[0][0]']           \n",
      " al)                          (None, 128),                                                        \n",
      "                              (None, 128),                                                        \n",
      "                              (None, 128),                                                        \n",
      "                              (None, 128)]                                                        \n",
      "                                                                                                  \n",
      " embedding_1 (Embedding)     (None, None, 100)            1980900   ['input_2[0][0]']             \n",
      "                                                                                                  \n",
      " enc_h (Concatenate)         (None, 256)                  0         ['bidirectional[0][1]',       \n",
      "                                                                     'bidirectional[0][3]']       \n",
      "                                                                                                  \n",
      " enc_c (Concatenate)         (None, 256)                  0         ['bidirectional[0][2]',       \n",
      "                                                                     'bidirectional[0][4]']       \n",
      "                                                                                                  \n",
      " lstm_1 (LSTM)               [(None, None, 256),          365568    ['embedding_1[0][0]',         \n",
      "                              (None, 256),                           'enc_h[0][0]',               \n",
      "                              (None, 256)]                           'enc_c[0][0]']               \n",
      "                                                                                                  \n",
      " time_distributed (TimeDist  (None, None, 19809)          5090913   ['lstm_1[0][0]']              \n",
      " ributed)                                                                                         \n",
      "                                                                                                  \n",
      "==================================================================================================\n",
      "Total params: 15374277 (58.65 MB)\n",
      "Trainable params: 15374277 (58.65 MB)\n",
      "Non-trainable params: 0 (0.00 Byte)\n",
      "__________________________________________________________________________________________________\n"
     ]
    }
   ],
   "source": [
    "latent_dim = 128\n",
    "# Encoder\n",
    "enc_input = Input(shape=(maxlen_text, ))\n",
    "enc_embed = Embedding(t_max_features, embed_dim, input_length=maxlen_text, weights=[t_embed], trainable=True)(enc_input)\n",
    "# h_lstm = LSTM(latent_dim, return_sequences=True, return_state=True)\n",
    "# h_out, _, _ = h_lstm(enc_embed)\n",
    "enc_lstm = Bidirectional(LSTM(latent_dim, return_state=True))\n",
    "enc_output, enc_fh, enc_fc, enc_bh, enc_bc = enc_lstm(enc_embed)\n",
    "enc_h = Concatenate(axis=-1, name='enc_h')([enc_fh, enc_bh])\n",
    "enc_c = Concatenate(axis=-1, name='enc_c')([enc_fc, enc_bc])\n",
    "#Decoder\n",
    "dec_input = Input(shape=(None, ))\n",
    "dec_embed = Embedding(s_max_features, embed_dim, weights=[s_embed], trainable=True)(dec_input)\n",
    "dec_lstm = LSTM(latent_dim*2, return_sequences=True, return_state=True, dropout=0.3, recurrent_dropout=0.2)\n",
    "dec_outputs, _, _ = dec_lstm(dec_embed, initial_state=[enc_h, enc_c])\n",
    "\n",
    "dec_dense = TimeDistributed(Dense(s_max_features, activation='softmax'))\n",
    "dec_output = dec_dense(dec_outputs)\n",
    "\n",
    "model = Model([enc_input, dec_input], dec_output)\n",
    "model.summary()"
   ]
  },
  {
   "cell_type": "code",
   "execution_count": 40,
   "id": "b236b1bf",
   "metadata": {
    "id": "jlJ60n9Wpk40",
    "papermill": {
     "duration": null,
     "end_time": null,
     "exception": null,
     "start_time": null,
     "status": "pending"
    },
    "tags": []
   },
   "outputs": [],
   "source": [
    "#plot_model(\n",
    "#    model,\n",
    "#    to_file='/content/drive/MyDrive/Colab Notebooks/Dataset/seq2seq_encoder_decoder.png',\n",
    "#    show_shapes=True,\n",
    "#    show_layer_names=True,\n",
    "#    rankdir='TB',\n",
    "#    expand_nested=False,\n",
    "#    dpi=96)"
   ]
  },
  {
   "cell_type": "code",
   "execution_count": 41,
   "id": "9b2c00d9",
   "metadata": {},
   "outputs": [
    {
     "name": "stdout",
     "output_type": "stream",
     "text": [
      "WARNING:tensorflow:From D:\\anaconda\\Lib\\site-packages\\keras\\src\\optimizers\\__init__.py:309: The name tf.train.Optimizer is deprecated. Please use tf.compat.v1.train.Optimizer instead.\n",
      "\n"
     ]
    }
   ],
   "source": [
    "model.compile(loss='sparse_categorical_crossentropy', optimizer='rmsprop',metrics=['accuracy'])\n",
    "early_stop = keras.callbacks.EarlyStopping(monitor='val_loss', mode='min', verbose=1, patience=4)"
   ]
  },
  {
   "cell_type": "code",
   "execution_count": 42,
   "id": "73dc6c2d",
   "metadata": {
    "execution": {
     "iopub.execute_input": "2023-08-22T17:38:05.182931Z",
     "iopub.status.busy": "2023-08-22T17:38:05.182550Z",
     "iopub.status.idle": "2023-08-22T20:46:27.576663Z",
     "shell.execute_reply": "2023-08-22T20:46:27.575236Z",
     "shell.execute_reply.started": "2023-08-22T17:38:05.182904Z"
    },
    "id": "ZjKtvtnsptkX",
    "outputId": "a817acf3-9f17-4ff7-b420-ab019b0904ff",
    "papermill": {
     "duration": null,
     "end_time": null,
     "exception": null,
     "start_time": null,
     "status": "pending"
    },
    "tags": []
   },
   "outputs": [
    {
     "name": "stdout",
     "output_type": "stream",
     "text": [
      "Epoch 1/10\n",
      "WARNING:tensorflow:From D:\\anaconda\\Lib\\site-packages\\keras\\src\\utils\\tf_utils.py:492: The name tf.ragged.RaggedTensorValue is deprecated. Please use tf.compat.v1.ragged.RaggedTensorValue instead.\n",
      "\n",
      "WARNING:tensorflow:From D:\\anaconda\\Lib\\site-packages\\keras\\src\\engine\\base_layer_utils.py:384: The name tf.executing_eagerly_outside_functions is deprecated. Please use tf.compat.v1.executing_eagerly_outside_functions instead.\n",
      "\n",
      "465/465 [==============================] - 702s 2s/step - loss: 5.5972 - accuracy: 0.2985 - val_loss: 5.2934 - val_accuracy: 0.3152\n",
      "Epoch 2/10\n",
      "465/465 [==============================] - 715s 2s/step - loss: 5.2102 - accuracy: 0.3238 - val_loss: 5.0494 - val_accuracy: 0.3324\n",
      "Epoch 3/10\n",
      "465/465 [==============================] - 713s 2s/step - loss: 5.0078 - accuracy: 0.3358 - val_loss: 4.8710 - val_accuracy: 0.3448\n",
      "Epoch 4/10\n",
      "465/465 [==============================] - 716s 2s/step - loss: 4.8690 - accuracy: 0.3427 - val_loss: 4.7583 - val_accuracy: 0.3488\n",
      "Epoch 5/10\n",
      "465/465 [==============================] - 703s 2s/step - loss: 4.7606 - accuracy: 0.3473 - val_loss: 4.6550 - val_accuracy: 0.3541\n",
      "Epoch 6/10\n",
      "465/465 [==============================] - 696s 1s/step - loss: 4.6715 - accuracy: 0.3510 - val_loss: 4.5778 - val_accuracy: 0.3576\n",
      "Epoch 7/10\n",
      "465/465 [==============================] - 696s 1s/step - loss: 4.5975 - accuracy: 0.3544 - val_loss: 4.5172 - val_accuracy: 0.3610\n",
      "Epoch 8/10\n",
      "465/465 [==============================] - 700s 2s/step - loss: 4.5335 - accuracy: 0.3575 - val_loss: 4.4533 - val_accuracy: 0.3647\n",
      "Epoch 9/10\n",
      "465/465 [==============================] - 696s 1s/step - loss: 4.4766 - accuracy: 0.3604 - val_loss: 4.4038 - val_accuracy: 0.3676\n",
      "Epoch 10/10\n",
      "465/465 [==============================] - 696s 1s/step - loss: 4.4260 - accuracy: 0.3626 - val_loss: 4.3603 - val_accuracy: 0.3697\n"
     ]
    }
   ],
   "source": [
    "history = model.fit([train_x, train_y[:, :-1]], train_y.reshape(train_y.shape[0], train_y.shape[1], 1)[:, 1:],\n",
    "          epochs=10, callbacks=[early_stop], batch_size=128, verbose=1,\n",
    "          validation_data=([val_x, val_y[:, :-1]], val_y.reshape(val_y.shape[0], val_y.shape[1], 1)[:, 1:]))"
   ]
  },
  {
   "cell_type": "code",
   "execution_count": 43,
   "id": "f5141b59",
   "metadata": {
    "execution": {
     "iopub.execute_input": "2023-08-22T20:46:27.579274Z",
     "iopub.status.busy": "2023-08-22T20:46:27.578953Z",
     "iopub.status.idle": "2023-08-22T20:46:27.826751Z",
     "shell.execute_reply": "2023-08-22T20:46:27.824730Z",
     "shell.execute_reply.started": "2023-08-22T20:46:27.579245Z"
    },
    "id": "wl1sMUhuVcXo",
    "papermill": {
     "duration": null,
     "end_time": null,
     "exception": null,
     "start_time": null,
     "status": "pending"
    },
    "tags": []
   },
   "outputs": [
    {
     "data": {
      "image/png": "[encoded data removed]",
      "text/plain": [
       "<Figure size 640x480 with 1 Axes>"
      ]
     },
     "metadata": {},
     "output_type": "display_data"
    }
   ],
   "source": [
    "from matplotlib import pyplot\n",
    "pyplot.plot(history.history['loss'], label='train')\n",
    "pyplot.plot(history.history['val_loss'], label='test')\n",
    "pyplot.legend()\n",
    "pyplot.show()"
   ]
  },
  {
   "cell_type": "code",
   "execution_count": 44,
   "id": "023cafae",
   "metadata": {
    "execution": {
     "iopub.execute_input": "2023-08-22T20:46:27.828890Z",
     "iopub.status.busy": "2023-08-22T20:46:27.828471Z",
     "iopub.status.idle": "2023-08-22T20:46:27.965652Z",
     "shell.execute_reply": "2023-08-22T20:46:27.964078Z",
     "shell.execute_reply.started": "2023-08-22T20:46:27.828857Z"
    },
    "id": "Da5cwlBqp_SW",
    "papermill": {
     "duration": null,
     "end_time": null,
     "exception": null,
     "start_time": null,
     "status": "pending"
    },
    "tags": []
   },
   "outputs": [],
   "source": [
    "enc_model = Model(inputs=enc_input, outputs=[enc_h, enc_c])\n",
    "\n",
    "dec_init_state_h = Input(shape=(latent_dim*2, ))\n",
    "dec_init_state_c = Input(shape=(latent_dim*2, ))\n",
    "\n",
    "dec_out, dec_h, dec_c = dec_lstm(dec_embed, initial_state=[dec_init_state_h, dec_init_state_c])\n",
    "dec_final = dec_dense(dec_out)\n",
    "\n",
    "dec_model = Model([dec_input]+[dec_init_state_h, dec_init_state_c], [dec_final]+[dec_h, dec_c])"
   ]
  },
  {
   "cell_type": "code",
   "execution_count": 45,
   "id": "24e5eb0e",
   "metadata": {
    "execution": {
     "iopub.execute_input": "2023-08-22T20:46:27.969257Z",
     "iopub.status.busy": "2023-08-22T20:46:27.968258Z",
     "iopub.status.idle": "2023-08-22T20:46:28.086666Z",
     "shell.execute_reply": "2023-08-22T20:46:28.084779Z",
     "shell.execute_reply.started": "2023-08-22T20:46:27.969220Z"
    },
    "id": "6AWXvvh9tcjQ",
    "papermill": {
     "duration": null,
     "end_time": null,
     "exception": null,
     "start_time": null,
     "status": "pending"
    },
    "tags": []
   },
   "outputs": [
    {
     "name": "stdout",
     "output_type": "stream",
     "text": [
      "WARNING:tensorflow:Compiled the loaded model, but the compiled metrics have yet to be built. `model.compile_metrics` will be empty until you train or evaluate the model.\n",
      "WARNING:tensorflow:Compiled the loaded model, but the compiled metrics have yet to be built. `model.compile_metrics` will be empty until you train or evaluate the model.\n"
     ]
    },
    {
     "name": "stderr",
     "output_type": "stream",
     "text": [
      "D:\\anaconda\\Lib\\site-packages\\keras\\src\\engine\\training.py:3103: UserWarning: You are saving your model as an HDF5 file via `model.save()`. This file format is considered legacy. We recommend using instead the native Keras format, e.g. `model.save('my_model.keras')`.\n",
      "  saving_api.save_model(\n"
     ]
    }
   ],
   "source": [
    "import pickle\n",
    "\n",
    "# Save encoder model\n",
    "enc_model.save('./models/baseline_abs/encoder_modelBiLSTM.h5')\n",
    "\n",
    "# Save decoder model\n",
    "dec_model.save('./models/baseline_abs/decoder_modelBiLSTM.h5')\n",
    "\n",
    "# Save tokenizer\n",
    "with open('./models/baseline_abs/s_tokenizerBiLSTM.pkl', 'wb') as f:\n",
    "    pickle.dump(s_tokenizer, f)\n",
    "model.save_weights('./models/baseline_abs/summarizationBiLSTM_weights.h5')"
   ]
  },
  {
   "cell_type": "code",
   "execution_count": 46,
   "id": "4d5ca3ca",
   "metadata": {
    "execution": {
     "iopub.execute_input": "2023-08-23T16:59:46.083660Z",
     "iopub.status.busy": "2023-08-23T16:59:46.083191Z",
     "iopub.status.idle": "2023-08-23T16:59:46.980241Z",
     "shell.execute_reply": "2023-08-23T16:59:46.979029Z",
     "shell.execute_reply.started": "2023-08-23T16:59:46.083626Z"
    },
    "papermill": {
     "duration": null,
     "end_time": null,
     "exception": null,
     "start_time": null,
     "status": "pending"
    },
    "tags": []
   },
   "outputs": [
    {
     "name": "stdout",
     "output_type": "stream",
     "text": [
      "WARNING:tensorflow:No training configuration found in the save file, so the model was *not* compiled. Compile it manually.\n",
      "WARNING:tensorflow:No training configuration found in the save file, so the model was *not* compiled. Compile it manually.\n"
     ]
    }
   ],
   "source": [
    "# Load the model\n",
    "enc_model = tf.keras.models.load_model('./models/baseline_abs/encoder_modelBiLSTM.h5')\n",
    "dec_model = tf.keras.models.load_model('./models/baseline_abs/decoder_modelBiLSTM.h5')"
   ]
  },
  {
   "cell_type": "code",
   "execution_count": 47,
   "id": "64e38068",
   "metadata": {
    "execution": {
     "iopub.execute_input": "2023-08-23T16:59:52.336466Z",
     "iopub.status.busy": "2023-08-23T16:59:52.335670Z",
     "iopub.status.idle": "2023-08-23T16:59:52.345429Z",
     "shell.execute_reply": "2023-08-23T16:59:52.343821Z",
     "shell.execute_reply.started": "2023-08-23T16:59:52.336426Z"
    },
    "id": "W5528cgxwHlg",
    "papermill": {
     "duration": null,
     "end_time": null,
     "exception": null,
     "start_time": null,
     "status": "pending"
    },
    "tags": []
   },
   "outputs": [],
   "source": [
    "def generate_summary(input_seq):\n",
    "    h, c = enc_model.predict(input_seq,verbose=0)\n",
    "\n",
    "    next_token = np.zeros((1, 1))\n",
    "    next_token[0, 0] = s_tokenizer.word_index['sostok']\n",
    "    output_seq = ''\n",
    "\n",
    "    stop = False\n",
    "    count = 0\n",
    "\n",
    "    while not stop:\n",
    "        if count > 100:\n",
    "            break\n",
    "        decoder_out, state_h, state_c = dec_model.predict([next_token]+[h, c],verbose=0)\n",
    "        token_idx = np.argmax(decoder_out[0, -1, :])\n",
    "\n",
    "        if token_idx == s_tokenizer.word_index['eostok']:\n",
    "            stop = True\n",
    "        elif token_idx > 0 and token_idx != s_tokenizer.word_index['sostok']:\n",
    "            token = s_tokenizer.index_word[token_idx]\n",
    "            output_seq = output_seq + ' ' + token\n",
    "\n",
    "        next_token = np.zeros((1, 1))\n",
    "        next_token[0, 0] = token_idx\n",
    "        h, c = state_h, state_c\n",
    "        count += 1\n",
    "\n",
    "    return output_seq\n"
   ]
  },
  {
   "cell_type": "code",
   "execution_count": 48,
   "id": "eeefa584",
   "metadata": {
    "execution": {
     "iopub.execute_input": "2023-08-23T17:19:27.129504Z",
     "iopub.status.busy": "2023-08-23T17:19:27.129045Z",
     "iopub.status.idle": "2023-08-23T17:19:27.792511Z",
     "shell.execute_reply": "2023-08-23T17:19:27.791297Z",
     "shell.execute_reply.started": "2023-08-23T17:19:27.129470Z"
    },
    "id": "rYZkhdaj16kc",
    "papermill": {
     "duration": null,
     "end_time": null,
     "exception": null,
     "start_time": null,
     "status": "pending"
    },
    "tags": []
   },
   "outputs": [],
   "source": [
    "df_test = pd.read_csv(\"./input/test_cleaned.csv\", nrows = 10)"
   ]
  },
  {
   "cell_type": "code",
   "execution_count": 49,
   "id": "4c92260c",
   "metadata": {
    "execution": {
     "iopub.execute_input": "2023-08-23T17:19:33.710550Z",
     "iopub.status.busy": "2023-08-23T17:19:33.709300Z",
     "iopub.status.idle": "2023-08-23T17:19:33.726356Z",
     "shell.execute_reply": "2023-08-23T17:19:33.725114Z",
     "shell.execute_reply.started": "2023-08-23T17:19:33.710500Z"
    },
    "id": "vuWsEnN75oVJ",
    "papermill": {
     "duration": null,
     "end_time": null,
     "exception": null,
     "start_time": null,
     "status": "pending"
    },
    "tags": []
   },
   "outputs": [],
   "source": [
    "test_data = df_test.drop(['id'], axis=1)\n",
    "test_data = test_data.reset_index(drop=True)"
   ]
  },
  {
   "cell_type": "code",
   "execution_count": 50,
   "id": "cedeec8a",
   "metadata": {
    "execution": {
     "iopub.execute_input": "2023-08-23T17:35:42.736312Z",
     "iopub.status.busy": "2023-08-23T17:35:42.735801Z",
     "iopub.status.idle": "2023-08-23T17:35:42.745109Z",
     "shell.execute_reply": "2023-08-23T17:35:42.743596Z",
     "shell.execute_reply.started": "2023-08-23T17:35:42.736271Z"
    },
    "id": "3Ouvpuxn5zja",
    "outputId": "193d8e51-25c7-42aa-faa9-14374d36e1ec",
    "papermill": {
     "duration": null,
     "end_time": null,
     "exception": null,
     "start_time": null,
     "status": "pending"
    },
    "tags": []
   },
   "outputs": [
    {
     "data": {
      "text/plain": [
       "(10, 3)"
      ]
     },
     "execution_count": 50,
     "metadata": {},
     "output_type": "execute_result"
    }
   ],
   "source": [
    "test_data.shape"
   ]
  },
  {
   "cell_type": "code",
   "execution_count": 51,
   "id": "3c56ca30",
   "metadata": {
    "execution": {
     "iopub.execute_input": "2023-08-23T17:26:10.819505Z",
     "iopub.status.busy": "2023-08-23T17:26:10.819050Z",
     "iopub.status.idle": "2023-08-23T17:26:11.549285Z",
     "shell.execute_reply": "2023-08-23T17:26:11.547830Z",
     "shell.execute_reply.started": "2023-08-23T17:26:10.819472Z"
    },
    "papermill": {
     "duration": null,
     "end_time": null,
     "exception": null,
     "start_time": null,
     "status": "pending"
    },
    "tags": []
   },
   "outputs": [],
   "source": [
    "test_final_story =[]\n",
    "test_final_summary =[]\n",
    "\n",
    "for i, sty in enumerate(test_data['article']):\n",
    "    sty_len = len(sty.split())\n",
    "    sumy_len = len(test_data['highlights'][i].split())\n",
    "  #print(\"story & summary len...\",sty_len,sumy_len)\n",
    "    if (sty_len > sumy_len) & (sty_len >50) & (sty_len <=300) & (sumy_len <=50):\n",
    "        test_final_story.append(sty)\n",
    "        test_final_summary.append(test_data['highlights'][i])"
   ]
  },
  {
   "cell_type": "code",
   "execution_count": 52,
   "id": "e34dd256",
   "metadata": {
    "execution": {
     "iopub.execute_input": "2023-08-23T17:43:08.954661Z",
     "iopub.status.busy": "2023-08-23T17:43:08.953534Z",
     "iopub.status.idle": "2023-08-23T17:43:09.011137Z",
     "shell.execute_reply": "2023-08-23T17:43:09.009883Z",
     "shell.execute_reply.started": "2023-08-23T17:43:08.954587Z"
    },
    "papermill": {
     "duration": null,
     "end_time": null,
     "exception": null,
     "start_time": null,
     "status": "pending"
    },
    "tags": []
   },
   "outputs": [
    {
     "name": "stdout",
     "output_type": "stream",
     "text": [
      "1\n",
      "1\n"
     ]
    }
   ],
   "source": [
    "print(len(test_final_story))\n",
    "print(len(test_final_summary))\n",
    "\n",
    "df_testfinal=pd.DataFrame({'story':test_final_story,'summary':test_final_summary})\n",
    "df_testfinal.to_csv(\"test863.csv\")"
   ]
  },
  {
   "cell_type": "code",
   "execution_count": 53,
   "id": "d6ceee52",
   "metadata": {
    "execution": {
     "iopub.execute_input": "2023-08-23T17:43:19.194102Z",
     "iopub.status.busy": "2023-08-23T17:43:19.193574Z",
     "iopub.status.idle": "2023-08-23T17:43:19.608110Z",
     "shell.execute_reply": "2023-08-23T17:43:19.606587Z",
     "shell.execute_reply.started": "2023-08-23T17:43:19.194053Z"
    },
    "id": "DX2GnnDnw2Wo",
    "papermill": {
     "duration": null,
     "end_time": null,
     "exception": null,
     "start_time": null,
     "status": "pending"
    },
    "tags": []
   },
   "outputs": [],
   "source": [
    "test_inputs = [clean_text(sent) for sent in df_testfinal['story']]\n",
    "test_inputs = t_tokenizer.texts_to_sequences(list(test_inputs))\n",
    "test_inputs = pad_sequences(test_inputs, maxlen=maxlen_text, padding='post')"
   ]
  },
  {
   "cell_type": "code",
   "execution_count": 54,
   "id": "500571b7",
   "metadata": {
    "execution": {
     "iopub.execute_input": "2023-08-23T17:47:14.899108Z",
     "iopub.status.busy": "2023-08-23T17:47:14.898662Z",
     "iopub.status.idle": "2023-08-23T17:47:14.905493Z",
     "shell.execute_reply": "2023-08-23T17:47:14.904604Z",
     "shell.execute_reply.started": "2023-08-23T17:47:14.899074Z"
    },
    "papermill": {
     "duration": null,
     "end_time": null,
     "exception": null,
     "start_time": null,
     "status": "pending"
    },
    "tags": []
   },
   "outputs": [
    {
     "data": {
      "text/plain": [
       "(1, 300)"
      ]
     },
     "execution_count": 54,
     "metadata": {},
     "output_type": "execute_result"
    }
   ],
   "source": [
    "test_inputs.shape"
   ]
  },
  {
   "cell_type": "code",
   "execution_count": 55,
   "id": "641b3946",
   "metadata": {
    "execution": {
     "iopub.execute_input": "2023-08-23T17:28:29.227663Z",
     "iopub.status.busy": "2023-08-23T17:28:29.227227Z",
     "iopub.status.idle": "2023-08-23T17:28:29.276788Z",
     "shell.execute_reply": "2023-08-23T17:28:29.275470Z",
     "shell.execute_reply.started": "2023-08-23T17:28:29.227631Z"
    },
    "id": "4o4Fx5cqUYbE",
    "outputId": "bc510cb6-42f2-4f72-869c-a8bec8705097",
    "papermill": {
     "duration": null,
     "end_time": null,
     "exception": null,
     "start_time": null,
     "status": "pending"
    },
    "tags": []
   },
   "outputs": [],
   "source": [
    "\n",
    "#maxlen_text"
   ]
  },
  {
   "cell_type": "code",
   "execution_count": 56,
   "id": "bd51b957",
   "metadata": {
    "execution": {
     "iopub.execute_input": "2023-08-23T17:47:28.308493Z",
     "iopub.status.busy": "2023-08-23T17:47:28.307909Z",
     "iopub.status.idle": "2023-08-23T18:25:48.525202Z",
     "shell.execute_reply": "2023-08-23T18:25:48.523948Z",
     "shell.execute_reply.started": "2023-08-23T17:47:28.308461Z"
    },
    "id": "wqDpXrV_7lXm",
    "outputId": "f1953bc1-4795-4b08-907a-195fbbce11e5",
    "papermill": {
     "duration": null,
     "end_time": null,
     "exception": null,
     "start_time": null,
     "status": "pending"
    },
    "tags": []
   },
   "outputs": [
    {
     "name": "stdout",
     "output_type": "stream",
     "text": [
      "0\n"
     ]
    }
   ],
   "source": [
    "hyps = []\n",
    "with open('result.csv', 'w') as f:\n",
    "    writer = csv.writer(f)\n",
    "    writer.writerow(['Article', 'Original Summary', 'Model Output'])\n",
    "    for i in range(len(test_final_story)):\n",
    "        print(i)\n",
    "        our_summ = generate_summary(test_inputs[i].reshape(1, maxlen_text))\n",
    "        hyps.append(our_summ)\n",
    "        writer.writerow([df_testfinal['story'][i], df_testfinal['summary'][i], our_summ])"
   ]
  },
  {
   "cell_type": "code",
   "execution_count": 57,
   "id": "cc52e5c1",
   "metadata": {
    "execution": {
     "iopub.execute_input": "2023-08-23T18:25:48.527975Z",
     "iopub.status.busy": "2023-08-23T18:25:48.527581Z",
     "iopub.status.idle": "2023-08-23T18:25:48.539328Z",
     "shell.execute_reply": "2023-08-23T18:25:48.537721Z",
     "shell.execute_reply.started": "2023-08-23T18:25:48.527943Z"
    },
    "id": "kxqzdJJI6BvA",
    "papermill": {
     "duration": null,
     "end_time": null,
     "exception": null,
     "start_time": null,
     "status": "pending"
    },
    "tags": []
   },
   "outputs": [],
   "source": [
    "def generate2_summary2(input_text):\n",
    "    # Load the tokenizer\n",
    "    with open('./models/baseline_abs/s_tokenizerBiLSTM.pkl', 'rb') as f:\n",
    "        s_tokenizer = pickle.load(f)\n",
    "\n",
    "    # Load the model\n",
    "    enc_model = tf.keras.models.load_model('./models/baseline_abs/encoder_modelBiLSTM.h5')\n",
    "    dec_model = tf.keras.models.load_model('./models/baseline_abs/decoder_modelBiLSTM.h5')\n",
    "\n",
    "    # Tokenize the input text\n",
    "    input_seq = s_tokenizer.texts_to_sequences([input_text])\n",
    "    input_seq = tf.keras.preprocessing.sequence.pad_sequences(input_seq, maxlen=300, padding='post')\n",
    "\n",
    "    # Generate the summary\n",
    "    h, c = enc_model.predict(input_seq,verbose=0)\n",
    "\n",
    "    next_token = np.zeros((1, 1))\n",
    "    next_token[0, 0] = s_tokenizer.word_index['sostok']\n",
    "    output_seq = ''\n",
    "\n",
    "    stop = False\n",
    "    count = 0\n",
    "\n",
    "    while not stop:\n",
    "        if count > 100:\n",
    "            break\n",
    "        decoder_out, state_h, state_c = dec_model.predict([next_token]+[h, c],verbose=0)\n",
    "        token_idx = np.argmax(decoder_out[0, -1, :])\n",
    "\n",
    "        if token_idx == s_tokenizer.word_index['eostok']:\n",
    "            stop = True\n",
    "        elif token_idx > 0 and token_idx != s_tokenizer.word_index['sostok']:\n",
    "            token = s_tokenizer.index_word[token_idx]\n",
    "            output_seq = output_seq + ' ' + token\n",
    "\n",
    "        next_token = np.zeros((1, 1))\n",
    "        next_token[0, 0] = token_idx\n",
    "        h, c = state_h, state_c\n",
    "        count += 1\n",
    "\n",
    "    return output_seq.strip()"
   ]
  },
  {
   "cell_type": "code",
   "execution_count": 58,
   "id": "2de20128",
   "metadata": {
    "execution": {
     "iopub.execute_input": "2023-08-23T17:46:41.524117Z",
     "iopub.status.busy": "2023-08-23T17:46:41.523521Z",
     "iopub.status.idle": "2023-08-23T17:46:46.376860Z",
     "shell.execute_reply": "2023-08-23T17:46:46.375610Z",
     "shell.execute_reply.started": "2023-08-23T17:46:41.524074Z"
    },
    "id": "R-XkFZPI6lXC",
    "outputId": "2244b2c0-a8b4-45d7-c97f-e226bfc34b92",
    "papermill": {
     "duration": null,
     "end_time": null,
     "exception": null,
     "start_time": null,
     "status": "pending"
    },
    "tags": []
   },
   "outputs": [
    {
     "name": "stdout",
     "output_type": "stream",
     "text": [
      "text :  Dougie Freedman is on the verge of agreeing a new two year deal to remain at Nottingham Forest. Freedman has stabilised Forest since he replaced cult hero Stuart Pearce and the club s owners are pleased with the job he has done at the City Ground. Dougie Freedman is set to sign a new deal at Nottingham Forest . Freedman has impressed at the City Ground since replacing Stuart Pearce in February . They made an audacious attempt on the play off places when Freedman replaced Pearce but have tailed off in recent weeks. That has not prevented Forest s ownership making moves to secure Freedman on a contract for the next two seasons.\n",
      "WARNING:tensorflow:No training configuration found in the save file, so the model was *not* compiled. Compile it manually.\n",
      "WARNING:tensorflow:No training configuration found in the save file, so the model was *not* compiled. Compile it manually.\n",
      "\n",
      "summary :  the new york is a new york for the new york city the new york is a new york city in the new york city the new york is a new york city in the new york\n"
     ]
    }
   ],
   "source": [
    "text = df_testfinal['story'][0]\n",
    "print(\"text : \",text)\n",
    "get_sum_for_text = generate2_summary2(text)\n",
    "print(\"\\nsummary : \",get_sum_for_text)"
   ]
  },
  {
   "cell_type": "code",
   "execution_count": 59,
   "id": "3b0082fc",
   "metadata": {
    "execution": {
     "iopub.execute_input": "2023-08-23T18:25:48.540959Z",
     "iopub.status.busy": "2023-08-23T18:25:48.540623Z",
     "iopub.status.idle": "2023-08-23T18:25:49.620173Z",
     "shell.execute_reply": "2023-08-23T18:25:49.619054Z",
     "shell.execute_reply.started": "2023-08-23T18:25:48.540930Z"
    },
    "id": "MQDAr-0r7Vly",
    "outputId": "6b164fc7-48c2-4ce3-a208-1afee6654eec",
    "papermill": {
     "duration": null,
     "end_time": null,
     "exception": null,
     "start_time": null,
     "status": "pending"
    },
    "tags": []
   },
   "outputs": [
    {
     "data": {
      "text/plain": [
       "{'rouge-1': {'r': 0.17857142857142858,\n",
       "  'p': 0.3333333333333333,\n",
       "  'f': 0.23255813499188757},\n",
       " 'rouge-2': {'r': 0.03225806451612903,\n",
       "  'p': 0.05555555555555555,\n",
       "  'f': 0.04081632188254947},\n",
       " 'rouge-l': {'r': 0.17857142857142858,\n",
       "  'p': 0.3333333333333333,\n",
       "  'f': 0.23255813499188757}}"
      ]
     },
     "execution_count": 59,
     "metadata": {},
     "output_type": "execute_result"
    }
   ],
   "source": [
    "rouge = Rouge()\n",
    "rouge.get_scores(hyps, df_testfinal['summary'], avg=True, ignore_empty=True)"
   ]
  },
  {
   "cell_type": "markdown",
   "id": "4ffed847",
   "metadata": {
    "id": "52A5YyTJteJX",
    "papermill": {
     "duration": null,
     "end_time": null,
     "exception": null,
     "start_time": null,
     "status": "pending"
    },
    "tags": []
   },
   "source": [
    "**2 models**"
   ]
  }
 ],
 "metadata": {
  "kernelspec": {
   "display_name": "Python 3 (ipykernel)",
   "language": "python",
   "name": "python3"
  },
  "language_info": {
   "codemirror_mode": {
    "name": "ipython",
    "version": 3
   },
   "file_extension": ".py",
   "mimetype": "text/x-python",
   "name": "python",
   "nbconvert_exporter": "python",
   "pygments_lexer": "ipython3",
   "version": "3.11.5"
  },
  "papermill": {
   "default_parameters": {},
   "duration": 40.709064,
   "end_time": "2023-08-23T18:28:46.800702",
   "environment_variables": {},
   "exception": true,
   "input_path": "__notebook__.ipynb",
   "output_path": "__notebook__.ipynb",
   "parameters": {},
   "start_time": "2023-08-23T18:28:06.091638",
   "version": "2.4.0"
  }
 },
 "nbformat": 4,
 "nbformat_minor": 5
}
