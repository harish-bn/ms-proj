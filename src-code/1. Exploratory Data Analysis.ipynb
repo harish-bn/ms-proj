{
 "cells": [
  {
   "cell_type": "code",
   "execution_count": 2,
   "id": "03c0e33c",
   "metadata": {},
   "outputs": [
    {
     "name": "stderr",
     "output_type": "stream",
     "text": [
      "[nltk_data] Downloading package punkt to\n",
      "[nltk_data]     C:\\Users\\Dell\\AppData\\Roaming\\nltk_data...\n",
      "[nltk_data]   Package punkt is already up-to-date!\n"
     ]
    }
   ],
   "source": [
    "import pandas as pd\n",
    "import numpy as np\n",
    "import seaborn as sns\n",
    "import matplotlib.pyplot as plt\n",
    "\n",
    "import logging\n",
    "import time\n",
    "import datetime\n",
    "\n",
    "import nltk\n",
    "nltk.download('punkt')  # Download punkt tokenizer if not already downloaded\n",
    "from nltk.tokenize import sent_tokenize\n",
    "from nltk.tokenize import word_tokenize\n",
    "\n",
    "import warnings\n",
    "warnings.filterwarnings(\"ignore\")"
   ]
  },
  {
   "cell_type": "code",
   "execution_count": 3,
   "id": "c6179d8c",
   "metadata": {},
   "outputs": [],
   "source": [
    "logging.basicConfig(\n",
    "    format='%(asctime)s %(levelname)-8s %(message)s',\n",
    "    datefmt='%Y-%m-%d %H:%M:%S',\n",
    "    level=logging.INFO, \n",
    "    filename='./logs/Exploratory Data Analysis.log')   "
   ]
  },
  {
   "cell_type": "code",
   "execution_count": 4,
   "id": "63bf10c3",
   "metadata": {},
   "outputs": [],
   "source": [
    "logging.info(\"==========================================================================================================\")\n",
    "logging.info(\"Exploratory Data Analysis Started \")"
   ]
  },
  {
   "cell_type": "markdown",
   "id": "e280d7ed",
   "metadata": {},
   "source": [
    "### Load train, test and validation CNN Dailymail dataset"
   ]
  },
  {
   "cell_type": "code",
   "execution_count": 5,
   "id": "96630103",
   "metadata": {},
   "outputs": [
    {
     "name": "stdout",
     "output_type": "stream",
     "text": [
      "(287113, 3) (11490, 3) (13368, 3)\n"
     ]
    }
   ],
   "source": [
    "train_df = pd.read_csv('./input/train.csv')\n",
    "test_df=pd.read_csv('./input/test.csv')\n",
    "validation_df=pd.read_csv('./input/validation.csv')\n",
    "\n",
    "logging.info(f\"Shapes - Train Dataset : {train_df.shape}, Test Dataset : {test_df.shape}, Validation Dataset: {validation_df.shape}\")\n",
    "\n",
    "print(train_df.shape, test_df.shape, validation_df.shape)"
   ]
  },
  {
   "cell_type": "code",
   "execution_count": 6,
   "id": "5c5ab56f",
   "metadata": {},
   "outputs": [
    {
     "data": {
      "text/html": [
       "<div>\n",
       "<style scoped>\n",
       "    .dataframe tbody tr th:only-of-type {\n",
       "        vertical-align: middle;\n",
       "    }\n",
       "\n",
       "    .dataframe tbody tr th {\n",
       "        vertical-align: top;\n",
       "    }\n",
       "\n",
       "    .dataframe thead th {\n",
       "        text-align: right;\n",
       "    }\n",
       "</style>\n",
       "<table border=\"1\" class=\"dataframe\">\n",
       "  <thead>\n",
       "    <tr style=\"text-align: right;\">\n",
       "      <th></th>\n",
       "      <th>id</th>\n",
       "      <th>article</th>\n",
       "      <th>highlights</th>\n",
       "    </tr>\n",
       "  </thead>\n",
       "  <tbody>\n",
       "    <tr>\n",
       "      <th>0</th>\n",
       "      <td>0001d1afc246a7964130f43ae940af6bc6c57f01</td>\n",
       "      <td>By . Associated Press . PUBLISHED: . 14:11 EST...</td>\n",
       "      <td>Bishop John Folda, of North Dakota, is taking ...</td>\n",
       "    </tr>\n",
       "    <tr>\n",
       "      <th>1</th>\n",
       "      <td>0002095e55fcbd3a2f366d9bf92a95433dc305ef</td>\n",
       "      <td>(CNN) -- Ralph Mata was an internal affairs li...</td>\n",
       "      <td>Criminal complaint: Cop used his role to help ...</td>\n",
       "    </tr>\n",
       "    <tr>\n",
       "      <th>2</th>\n",
       "      <td>00027e965c8264c35cc1bc55556db388da82b07f</td>\n",
       "      <td>A drunk driver who killed a young woman in a h...</td>\n",
       "      <td>Craig Eccleston-Todd, 27, had drunk at least t...</td>\n",
       "    </tr>\n",
       "    <tr>\n",
       "      <th>3</th>\n",
       "      <td>0002c17436637c4fe1837c935c04de47adb18e9a</td>\n",
       "      <td>(CNN) -- With a breezy sweep of his pen Presid...</td>\n",
       "      <td>Nina dos Santos says Europe must be ready to a...</td>\n",
       "    </tr>\n",
       "    <tr>\n",
       "      <th>4</th>\n",
       "      <td>0003ad6ef0c37534f80b55b4235108024b407f0b</td>\n",
       "      <td>Fleetwood are the only team still to have a 10...</td>\n",
       "      <td>Fleetwood top of League One after 2-0 win at S...</td>\n",
       "    </tr>\n",
       "  </tbody>\n",
       "</table>\n",
       "</div>"
      ],
      "text/plain": [
       "                                         id  \\\n",
       "0  0001d1afc246a7964130f43ae940af6bc6c57f01   \n",
       "1  0002095e55fcbd3a2f366d9bf92a95433dc305ef   \n",
       "2  00027e965c8264c35cc1bc55556db388da82b07f   \n",
       "3  0002c17436637c4fe1837c935c04de47adb18e9a   \n",
       "4  0003ad6ef0c37534f80b55b4235108024b407f0b   \n",
       "\n",
       "                                             article  \\\n",
       "0  By . Associated Press . PUBLISHED: . 14:11 EST...   \n",
       "1  (CNN) -- Ralph Mata was an internal affairs li...   \n",
       "2  A drunk driver who killed a young woman in a h...   \n",
       "3  (CNN) -- With a breezy sweep of his pen Presid...   \n",
       "4  Fleetwood are the only team still to have a 10...   \n",
       "\n",
       "                                          highlights  \n",
       "0  Bishop John Folda, of North Dakota, is taking ...  \n",
       "1  Criminal complaint: Cop used his role to help ...  \n",
       "2  Craig Eccleston-Todd, 27, had drunk at least t...  \n",
       "3  Nina dos Santos says Europe must be ready to a...  \n",
       "4  Fleetwood top of League One after 2-0 win at S...  "
      ]
     },
     "execution_count": 6,
     "metadata": {},
     "output_type": "execute_result"
    }
   ],
   "source": [
    "train_df.head(5)"
   ]
  },
  {
   "cell_type": "code",
   "execution_count": 7,
   "id": "fccd5ab8",
   "metadata": {},
   "outputs": [
    {
     "name": "stdout",
     "output_type": "stream",
     "text": [
      "Article:\n",
      " By . Associated Press . PUBLISHED: . 14:11 EST, 25 October 2013 . | . UPDATED: . 15:36 EST, 25 October 2013 . The bishop of the Fargo Catholic Diocese in North Dakota has exposed potentially hundreds of church members in Fargo, Grand Forks and Jamestown to the hepatitis A virus in late September and early October. The state Health Department has issued an advisory of exposure for anyone who attended five churches and took communion. Bishop John Folda (pictured) of the Fargo Catholic Diocese in North Dakota has exposed potentially hundreds of church members in Fargo, Grand Forks and Jamestown to the hepatitis A . State Immunization Program Manager Molly Howell says the risk is low, but officials feel it's important to alert people to the possible exposure. The diocese announced on Monday that Bishop John Folda is taking time off after being diagnosed with hepatitis A. The diocese says he contracted the infection through contaminated food while attending a conference for newly ordained b\n",
      "Summary:\n",
      " Bishop John Folda, of North Dakota, is taking time off after being diagnosed .\n",
      "He contracted the infection through contaminated food in Italy .\n",
      "Church members in Fargo, Grand Forks and Jamestown could have been exposed .\n"
     ]
    }
   ],
   "source": [
    "print('Article:\\n', train_df.iloc[0]['article'][:1000])\n",
    "print('Summary:\\n', train_df.iloc[0]['highlights'])\n"
   ]
  },
  {
   "cell_type": "code",
   "execution_count": 8,
   "id": "dbd88d33",
   "metadata": {},
   "outputs": [
    {
     "name": "stdout",
     "output_type": "stream",
     "text": [
      "Article:\n",
      " By . Associated Press . PUBLISHED: . 14:11 EST, 25 October 2013 . | . UPDATED: . 15:36 EST, 25 October 2013 . The bishop of the Fargo Catholic Diocese in North Dakota has exposed potentially hundreds \n",
      "Article:\n",
      " (CNN) -- Ralph Mata was an internal affairs lieutenant for the Miami-Dade Police Department, working in the division that investigates allegations of wrongdoing by cops. Outside the office, authoritie\n",
      "Article:\n",
      " A drunk driver who killed a young woman in a head-on crash while checking his mobile phone has been jailed for six years. Craig Eccleston-Todd, 27, was driving home from a night at a pub when he recei\n",
      "Article:\n",
      " (CNN) -- With a breezy sweep of his pen President Vladimir Putin wrote a new chapter into Crimea's turbulent history, committing the region to a future returned to Russian domain. Sixty years prior, U\n",
      "Article:\n",
      " Fleetwood are the only team still to have a 100% record in Sky Bet League One as a 2-0 win over Scunthorpe sent Graham Alexander’s men top of the table. The Cod Army are playing in the third tier for \n",
      "Article:\n",
      " He's been accused of making many a fashion faux pas while on holiday. But the Prime Minister seems to be deaf to his critics. Yesterday David Cameron was seen in the same pair of beige loafers he wore\n",
      "Article:\n",
      " By . Daily Mail Reporter . PUBLISHED: . 01:15 EST, 30 November 2013 . | . UPDATED: . 01:23 EST, 30 November 2013 . More than two decades after Magic Johnson announced that he had HIV, the basketball p\n",
      "Article:\n",
      " By . Daily Mail Reporter . This is the moment a train announcer stunned passengers by announcing over a tannoy as they pulled into a station to beware of pickpockets and gipsies. The London Midland se\n",
      "Article:\n",
      " There are a number of job descriptions waiting for Darren Fletcher when he settles in at West Brom but the one he might not have expected is Saido Berahino’s nanny. Fletcher’s unveiling as the deadlin\n",
      "Article:\n",
      " Canberra, Australia (CNN) -- At first glance, it doesn't look like much. Hidden behind an unmarked door, in a nondescript government office building in the Australian capital, it could be mistaken for\n"
     ]
    }
   ],
   "source": [
    "for index in range(10):\n",
    "    print('Article:\\n', train_df.iloc[index]['article'][:200])"
   ]
  },
  {
   "cell_type": "code",
   "execution_count": 9,
   "id": "3a5e4fe8",
   "metadata": {},
   "outputs": [
    {
     "data": {
      "text/plain": [
       "id            0\n",
       "article       0\n",
       "highlights    0\n",
       "dtype: int64"
      ]
     },
     "execution_count": 9,
     "metadata": {},
     "output_type": "execute_result"
    }
   ],
   "source": [
    "train_null_articles = train_df.isnull().sum()\n",
    "logging.info(f\"Train Null Articles :\\n {train_null_articles}\")\n",
    "train_null_articles      "
   ]
  },
  {
   "cell_type": "code",
   "execution_count": 10,
   "id": "5ff4467c",
   "metadata": {},
   "outputs": [
    {
     "data": {
      "text/plain": [
       "id            0\n",
       "article       0\n",
       "highlights    0\n",
       "dtype: int64"
      ]
     },
     "execution_count": 10,
     "metadata": {},
     "output_type": "execute_result"
    }
   ],
   "source": [
    "test_null_articles  = test_df.isnull().sum()\n",
    "logging.info(f\"Test Null Articles :\\n {test_null_articles}\")\n",
    "test_null_articles  "
   ]
  },
  {
   "cell_type": "code",
   "execution_count": 11,
   "id": "c10ae801",
   "metadata": {},
   "outputs": [
    {
     "data": {
      "text/plain": [
       "id            0\n",
       "article       0\n",
       "highlights    0\n",
       "dtype: int64"
      ]
     },
     "execution_count": 11,
     "metadata": {},
     "output_type": "execute_result"
    }
   ],
   "source": [
    "validation_null_articles = validation_df.isnull().sum()\n",
    "logging.info(f\"Validation Null Articles :\\n {validation_null_articles}\")\n",
    "validation_null_articles  "
   ]
  },
  {
   "cell_type": "code",
   "execution_count": 12,
   "id": "918090d8",
   "metadata": {},
   "outputs": [
    {
     "data": {
      "text/plain": [
       "3098"
      ]
     },
     "execution_count": 12,
     "metadata": {},
     "output_type": "execute_result"
    }
   ],
   "source": [
    "#Check Duplicates\n",
    "train_duplicates = train_df.duplicated(subset= ['article', 'highlights']).sum()\n",
    "logging.info(f\"Train Dataset Duplicates - {train_duplicates}\")\n",
    "train_duplicates"
   ]
  },
  {
   "cell_type": "markdown",
   "id": "cc6e8a88",
   "metadata": {},
   "source": [
    "### Computation of words count in dataset"
   ]
  },
  {
   "cell_type": "code",
   "execution_count": 13,
   "id": "f2fdff62",
   "metadata": {},
   "outputs": [],
   "source": [
    "# Computation of Length of article and hughlights\n",
    "def article_len(row):\n",
    "    return len(row['article'].split())\n",
    "\n",
    "def highlights_len(row):\n",
    "    return len(row['highlights'].split())\n",
    "\n",
    "logging.info(f\"Computation of words count in train, test and validation Dataset\")\n",
    "train_df['article_len'] = train_df.apply(lambda r: article_len(r), axis= 1)\n",
    "train_df['highlights_len'] = train_df.apply(lambda r: highlights_len(r), axis= 1)\n",
    "\n",
    "test_df['article_len'] = test_df.apply(lambda r: article_len(r), axis= 1)\n",
    "test_df['highlights_len'] = test_df.apply(lambda r: highlights_len(r), axis= 1)\n",
    "\n",
    "validation_df['article_len'] = validation_df.apply(lambda r: article_len(r), axis= 1)\n",
    "validation_df['highlights_len'] = validation_df.apply(lambda r: highlights_len(r), axis= 1)"
   ]
  },
  {
   "cell_type": "code",
   "execution_count": 14,
   "id": "42e81603",
   "metadata": {},
   "outputs": [
    {
     "data": {
      "text/html": [
       "<div>\n",
       "<style scoped>\n",
       "    .dataframe tbody tr th:only-of-type {\n",
       "        vertical-align: middle;\n",
       "    }\n",
       "\n",
       "    .dataframe tbody tr th {\n",
       "        vertical-align: top;\n",
       "    }\n",
       "\n",
       "    .dataframe thead th {\n",
       "        text-align: right;\n",
       "    }\n",
       "</style>\n",
       "<table border=\"1\" class=\"dataframe\">\n",
       "  <thead>\n",
       "    <tr style=\"text-align: right;\">\n",
       "      <th></th>\n",
       "      <th>id</th>\n",
       "      <th>article</th>\n",
       "      <th>highlights</th>\n",
       "      <th>article_len</th>\n",
       "      <th>highlights_len</th>\n",
       "    </tr>\n",
       "  </thead>\n",
       "  <tbody>\n",
       "    <tr>\n",
       "      <th>0</th>\n",
       "      <td>0001d1afc246a7964130f43ae940af6bc6c57f01</td>\n",
       "      <td>By . Associated Press . PUBLISHED: . 14:11 EST...</td>\n",
       "      <td>Bishop John Folda, of North Dakota, is taking ...</td>\n",
       "      <td>198</td>\n",
       "      <td>37</td>\n",
       "    </tr>\n",
       "    <tr>\n",
       "      <th>1</th>\n",
       "      <td>0002095e55fcbd3a2f366d9bf92a95433dc305ef</td>\n",
       "      <td>(CNN) -- Ralph Mata was an internal affairs li...</td>\n",
       "      <td>Criminal complaint: Cop used his role to help ...</td>\n",
       "      <td>392</td>\n",
       "      <td>38</td>\n",
       "    </tr>\n",
       "    <tr>\n",
       "      <th>2</th>\n",
       "      <td>00027e965c8264c35cc1bc55556db388da82b07f</td>\n",
       "      <td>A drunk driver who killed a young woman in a h...</td>\n",
       "      <td>Craig Eccleston-Todd, 27, had drunk at least t...</td>\n",
       "      <td>808</td>\n",
       "      <td>69</td>\n",
       "    </tr>\n",
       "    <tr>\n",
       "      <th>3</th>\n",
       "      <td>0002c17436637c4fe1837c935c04de47adb18e9a</td>\n",
       "      <td>(CNN) -- With a breezy sweep of his pen Presid...</td>\n",
       "      <td>Nina dos Santos says Europe must be ready to a...</td>\n",
       "      <td>531</td>\n",
       "      <td>53</td>\n",
       "    </tr>\n",
       "    <tr>\n",
       "      <th>4</th>\n",
       "      <td>0003ad6ef0c37534f80b55b4235108024b407f0b</td>\n",
       "      <td>Fleetwood are the only team still to have a 10...</td>\n",
       "      <td>Fleetwood top of League One after 2-0 win at S...</td>\n",
       "      <td>580</td>\n",
       "      <td>67</td>\n",
       "    </tr>\n",
       "  </tbody>\n",
       "</table>\n",
       "</div>"
      ],
      "text/plain": [
       "                                         id  \\\n",
       "0  0001d1afc246a7964130f43ae940af6bc6c57f01   \n",
       "1  0002095e55fcbd3a2f366d9bf92a95433dc305ef   \n",
       "2  00027e965c8264c35cc1bc55556db388da82b07f   \n",
       "3  0002c17436637c4fe1837c935c04de47adb18e9a   \n",
       "4  0003ad6ef0c37534f80b55b4235108024b407f0b   \n",
       "\n",
       "                                             article  \\\n",
       "0  By . Associated Press . PUBLISHED: . 14:11 EST...   \n",
       "1  (CNN) -- Ralph Mata was an internal affairs li...   \n",
       "2  A drunk driver who killed a young woman in a h...   \n",
       "3  (CNN) -- With a breezy sweep of his pen Presid...   \n",
       "4  Fleetwood are the only team still to have a 10...   \n",
       "\n",
       "                                          highlights  article_len  \\\n",
       "0  Bishop John Folda, of North Dakota, is taking ...          198   \n",
       "1  Criminal complaint: Cop used his role to help ...          392   \n",
       "2  Craig Eccleston-Todd, 27, had drunk at least t...          808   \n",
       "3  Nina dos Santos says Europe must be ready to a...          531   \n",
       "4  Fleetwood top of League One after 2-0 win at S...          580   \n",
       "\n",
       "   highlights_len  \n",
       "0              37  \n",
       "1              38  \n",
       "2              69  \n",
       "3              53  \n",
       "4              67  "
      ]
     },
     "execution_count": 14,
     "metadata": {},
     "output_type": "execute_result"
    }
   ],
   "source": [
    "train_df.head(5)"
   ]
  },
  {
   "cell_type": "code",
   "execution_count": 15,
   "id": "750bc7ba",
   "metadata": {},
   "outputs": [],
   "source": [
    "# Dropping redundent Id column\n",
    "logging.info(f\"Dropping ID column from train, test and validation Dataset\")\n",
    "train_df = train_df.drop('id', axis= 1)\n",
    "test_df = test_df.drop('id', axis= 1)\n",
    "validation_df = validation_df.drop('id', axis= 1)"
   ]
  },
  {
   "cell_type": "code",
   "execution_count": 16,
   "id": "f7645d22",
   "metadata": {},
   "outputs": [
    {
     "data": {
      "text/html": [
       "<div>\n",
       "<style scoped>\n",
       "    .dataframe tbody tr th:only-of-type {\n",
       "        vertical-align: middle;\n",
       "    }\n",
       "\n",
       "    .dataframe tbody tr th {\n",
       "        vertical-align: top;\n",
       "    }\n",
       "\n",
       "    .dataframe thead th {\n",
       "        text-align: right;\n",
       "    }\n",
       "</style>\n",
       "<table border=\"1\" class=\"dataframe\">\n",
       "  <thead>\n",
       "    <tr style=\"text-align: right;\">\n",
       "      <th></th>\n",
       "      <th>article</th>\n",
       "      <th>highlights</th>\n",
       "      <th>article_len</th>\n",
       "      <th>highlights_len</th>\n",
       "    </tr>\n",
       "  </thead>\n",
       "  <tbody>\n",
       "    <tr>\n",
       "      <th>0</th>\n",
       "      <td>By . Associated Press . PUBLISHED: . 14:11 EST...</td>\n",
       "      <td>Bishop John Folda, of North Dakota, is taking ...</td>\n",
       "      <td>198</td>\n",
       "      <td>37</td>\n",
       "    </tr>\n",
       "    <tr>\n",
       "      <th>1</th>\n",
       "      <td>(CNN) -- Ralph Mata was an internal affairs li...</td>\n",
       "      <td>Criminal complaint: Cop used his role to help ...</td>\n",
       "      <td>392</td>\n",
       "      <td>38</td>\n",
       "    </tr>\n",
       "    <tr>\n",
       "      <th>2</th>\n",
       "      <td>A drunk driver who killed a young woman in a h...</td>\n",
       "      <td>Craig Eccleston-Todd, 27, had drunk at least t...</td>\n",
       "      <td>808</td>\n",
       "      <td>69</td>\n",
       "    </tr>\n",
       "    <tr>\n",
       "      <th>3</th>\n",
       "      <td>(CNN) -- With a breezy sweep of his pen Presid...</td>\n",
       "      <td>Nina dos Santos says Europe must be ready to a...</td>\n",
       "      <td>531</td>\n",
       "      <td>53</td>\n",
       "    </tr>\n",
       "    <tr>\n",
       "      <th>4</th>\n",
       "      <td>Fleetwood are the only team still to have a 10...</td>\n",
       "      <td>Fleetwood top of League One after 2-0 win at S...</td>\n",
       "      <td>580</td>\n",
       "      <td>67</td>\n",
       "    </tr>\n",
       "  </tbody>\n",
       "</table>\n",
       "</div>"
      ],
      "text/plain": [
       "                                             article  \\\n",
       "0  By . Associated Press . PUBLISHED: . 14:11 EST...   \n",
       "1  (CNN) -- Ralph Mata was an internal affairs li...   \n",
       "2  A drunk driver who killed a young woman in a h...   \n",
       "3  (CNN) -- With a breezy sweep of his pen Presid...   \n",
       "4  Fleetwood are the only team still to have a 10...   \n",
       "\n",
       "                                          highlights  article_len  \\\n",
       "0  Bishop John Folda, of North Dakota, is taking ...          198   \n",
       "1  Criminal complaint: Cop used his role to help ...          392   \n",
       "2  Craig Eccleston-Todd, 27, had drunk at least t...          808   \n",
       "3  Nina dos Santos says Europe must be ready to a...          531   \n",
       "4  Fleetwood top of League One after 2-0 win at S...          580   \n",
       "\n",
       "   highlights_len  \n",
       "0              37  \n",
       "1              38  \n",
       "2              69  \n",
       "3              53  \n",
       "4              67  "
      ]
     },
     "execution_count": 16,
     "metadata": {},
     "output_type": "execute_result"
    }
   ],
   "source": [
    "train_df.head()"
   ]
  },
  {
   "cell_type": "code",
   "execution_count": 17,
   "id": "52c0e6c3",
   "metadata": {},
   "outputs": [
    {
     "data": {
      "text/html": [
       "<div>\n",
       "<style scoped>\n",
       "    .dataframe tbody tr th:only-of-type {\n",
       "        vertical-align: middle;\n",
       "    }\n",
       "\n",
       "    .dataframe tbody tr th {\n",
       "        vertical-align: top;\n",
       "    }\n",
       "\n",
       "    .dataframe thead th {\n",
       "        text-align: right;\n",
       "    }\n",
       "</style>\n",
       "<table border=\"1\" class=\"dataframe\">\n",
       "  <thead>\n",
       "    <tr style=\"text-align: right;\">\n",
       "      <th></th>\n",
       "      <th>article_len</th>\n",
       "      <th>highlights_len</th>\n",
       "    </tr>\n",
       "  </thead>\n",
       "  <tbody>\n",
       "    <tr>\n",
       "      <th>count</th>\n",
       "      <td>287113.000000</td>\n",
       "      <td>287113.000000</td>\n",
       "    </tr>\n",
       "    <tr>\n",
       "      <th>mean</th>\n",
       "      <td>691.869494</td>\n",
       "      <td>51.574101</td>\n",
       "    </tr>\n",
       "    <tr>\n",
       "      <th>std</th>\n",
       "      <td>336.500035</td>\n",
       "      <td>21.256336</td>\n",
       "    </tr>\n",
       "    <tr>\n",
       "      <th>min</th>\n",
       "      <td>8.000000</td>\n",
       "      <td>4.000000</td>\n",
       "    </tr>\n",
       "    <tr>\n",
       "      <th>25%</th>\n",
       "      <td>443.000000</td>\n",
       "      <td>38.000000</td>\n",
       "    </tr>\n",
       "    <tr>\n",
       "      <th>50%</th>\n",
       "      <td>632.000000</td>\n",
       "      <td>48.000000</td>\n",
       "    </tr>\n",
       "    <tr>\n",
       "      <th>75%</th>\n",
       "      <td>877.000000</td>\n",
       "      <td>60.000000</td>\n",
       "    </tr>\n",
       "    <tr>\n",
       "      <th>max</th>\n",
       "      <td>2347.000000</td>\n",
       "      <td>1296.000000</td>\n",
       "    </tr>\n",
       "  </tbody>\n",
       "</table>\n",
       "</div>"
      ],
      "text/plain": [
       "         article_len  highlights_len\n",
       "count  287113.000000   287113.000000\n",
       "mean      691.869494       51.574101\n",
       "std       336.500035       21.256336\n",
       "min         8.000000        4.000000\n",
       "25%       443.000000       38.000000\n",
       "50%       632.000000       48.000000\n",
       "75%       877.000000       60.000000\n",
       "max      2347.000000     1296.000000"
      ]
     },
     "execution_count": 17,
     "metadata": {},
     "output_type": "execute_result"
    }
   ],
   "source": [
    "desc = train_df.describe()\n",
    "logging.info(f\"Train dataset stats \\n {desc}\")\n",
    "desc"
   ]
  },
  {
   "cell_type": "code",
   "execution_count": 18,
   "id": "f9f4329e",
   "metadata": {},
   "outputs": [
    {
     "name": "stdout",
     "output_type": "stream",
     "text": [
      "1th percentile: 161.0\n",
      "10th percentile: 313.0\n",
      "20th percentile: 404.0\n",
      "30th percentile: 480.0\n",
      "40th percentile: 554.0\n",
      "50th percentile: 632.0\n",
      "60th percentile: 717.0\n",
      "70th percentile: 817.0\n",
      "80th percentile: 949.0\n",
      "90th percentile: 1166.0\n",
      "95th percentile: 1363.0\n",
      "99th percentile: 1674.0\n",
      "\n",
      "1th percentile: 164.0\n",
      "10th percentile: 298.0\n",
      "20th percentile: 382.0\n",
      "30th percentile: 458.0\n",
      "40th percentile: 535.0\n",
      "50th percentile: 613.0\n",
      "60th percentile: 705.0\n",
      "70th percentile: 812.0\n",
      "80th percentile: 952.0\n",
      "90th percentile: 1188.0\n",
      "95th percentile: 1399.5499999999993\n",
      "99th percentile: 1689.0\n",
      "\n",
      "1th percentile: 165.0\n",
      "10th percentile: 292.0\n",
      "20th percentile: 378.0\n",
      "30th percentile: 454.0\n",
      "40th percentile: 530.0\n",
      "50th percentile: 608.0\n",
      "60th percentile: 697.0\n",
      "70th percentile: 804.8999999999996\n",
      "80th percentile: 944.0\n",
      "90th percentile: 1168.0\n",
      "95th percentile: 1370.0\n",
      "99th percentile: 1667.33\n"
     ]
    }
   ],
   "source": [
    "train_unique_counts = train_df['article_len']\n",
    "test_unique_counts = test_df['article_len']\n",
    "validation_unique_counts = validation_df['article_len']\n",
    "percentiles = [1, 10, 20, 30, 40, 50, 60, 70, 80, 90, 95, 99]\n",
    "train_percentile_values = np.percentile(train_unique_counts, percentiles)\n",
    "test_percentile_values = np.percentile(test_unique_counts, percentiles)\n",
    "validation_percentile_values = np.percentile(validation_unique_counts, percentiles)\n",
    "\n",
    "for p, value in zip(percentiles, train_percentile_values):\n",
    "    print(f\"{p}th percentile: {value}\")\n",
    "print()\n",
    "\n",
    "for p, value in zip(percentiles, test_percentile_values):\n",
    "    print(f\"{p}th percentile: {value}\")\n",
    "print()\n",
    "\n",
    "for p, value in zip(percentiles, validation_percentile_values):\n",
    "    print(f\"{p}th percentile: {value}\")\n",
    "    \n"
   ]
  },
  {
   "cell_type": "code",
   "execution_count": 19,
   "id": "0a22a364",
   "metadata": {},
   "outputs": [
    {
     "data": {
      "image/png": "[encoded data removed]",
      "text/plain": [
       "<Figure size 1000x500 with 1 Axes>"
      ]
     },
     "metadata": {},
     "output_type": "display_data"
    }
   ],
   "source": [
    "logging.info(f\"Plotting Percentile Distribution of word count for train, test and validation Dataset\")\n",
    "plt.figure(figsize=(10, 5))\n",
    "\n",
    "plt.plot(train_percentile_values,percentiles, marker='X', linestyle='-',  alpha=0.5)\n",
    "plt.plot(test_percentile_values,percentiles, marker='o', linestyle='-',  alpha=0.25)\n",
    "plt.plot(validation_percentile_values, percentiles, marker='*', linestyle='-',  alpha=0.75)\n",
    "\n",
    "plt.xlabel('Article Word Count')\n",
    "plt.ylabel('Percentile')\n",
    "plt.title('Percentiles Distribution of Article Word Count',fontsize=10)\n",
    "plt.legend(['train','test'])\n",
    "\n",
    "plt.grid(True)\n",
    "\n",
    "plt.show()"
   ]
  },
  {
   "cell_type": "markdown",
   "id": "7493e834",
   "metadata": {},
   "source": [
    "### Histogram of word count in dataset"
   ]
  },
  {
   "cell_type": "code",
   "execution_count": 20,
   "id": "5a9dc8f0",
   "metadata": {},
   "outputs": [
    {
     "data": {
      "image/png": "[encoded data removed]",
      "text/plain": [
       "<Figure size 900x900 with 6 Axes>"
      ]
     },
     "metadata": {},
     "output_type": "display_data"
    }
   ],
   "source": [
    "logging.info(f\"Plotting word count Histogram for train, test and validation Dataset\")\n",
    "import matplotlib.pyplot as plt\n",
    "plt.rcParams['font.family'] = 'serif'\n",
    "plt.rcParams['font.serif'] = ['Times New Roman']\n",
    "\n",
    "# Generating sample data\n",
    "data = [np.random.randn(1000) for _ in range(6)]\n",
    "\n",
    "# Creating subplots\n",
    "fig, axs = plt.subplots(3, 2, figsize=(9, 9))\n",
    "\n",
    "# Add titles\n",
    "fig.suptitle('Distribution of Words in CNN Dailymail Dataset', fontsize=12)\n",
    "fig.supxlabel('Words',fontsize='medium')\n",
    "fig.supylabel('Count',fontsize='medium')\n",
    "\n",
    "\n",
    "axs[0, 0].hist(train_df['article_len'], bins=30,  alpha=0.5)\n",
    "axs[0, 0].set_xlim(0, 2000)  # Example range from -5 to 5\n",
    "axs[0, 0].set_title('Train - Article', fontsize=10)\n",
    "\n",
    "axs[0, 1].hist(train_df['highlights_len'], bins=200,  alpha=0.5)\n",
    "axs[0, 1].set_xlim(0, 200)  # Example range from -5 to 5\n",
    "axs[0, 1].set_title('Train - Highlights', fontsize=10)\n",
    "\n",
    "\n",
    "axs[1, 0].hist(test_df['article_len'], bins=30,  alpha=0.5)\n",
    "axs[1, 0].set_xlim(0, 2000)   # Example range from -5 to 5\n",
    "axs[1, 0].set_title('Test - Article', fontsize=10)\n",
    "\n",
    "axs[1, 1].hist(test_df['highlights_len'], bins=200,  alpha=0.5)\n",
    "axs[1, 1].set_xlim(0, 200)   # Example range from -5 to 5\n",
    "axs[1, 1].set_title('Test - Highlights', fontsize=10)\n",
    "\n",
    "axs[2, 0].hist(validation_df['article_len'], bins=30,  alpha=0.5)\n",
    "axs[2, 0].set_xlim(0, 2000) \n",
    "axs[2, 0].set_title('Validation - Article', fontsize=10)\n",
    "\n",
    "axs[2, 1].hist(validation_df['highlights_len'], bins=200,  alpha=0.5)\n",
    "axs[2, 1].set_xlim(0, 200)   # Example range from -5 to 5\n",
    "axs[2, 1].set_title('Validation - Highlights', fontsize=10)\n",
    "\n",
    "# Adjust layout\n",
    "plt.tight_layout()\n",
    "\n",
    "# Show plot\n",
    "plt.show()"
   ]
  },
  {
   "cell_type": "markdown",
   "id": "8f00e48f",
   "metadata": {},
   "source": [
    "### Histogram of sentences count in dataset"
   ]
  },
  {
   "cell_type": "code",
   "execution_count": 21,
   "id": "b55e612d",
   "metadata": {},
   "outputs": [
    {
     "name": "stdout",
     "output_type": "stream",
     "text": [
      "Train Article Avg # of sentences per article: 39.09570447872441\n",
      "Train Highlights Avg # of sentences per article: 3.6826441157314367\n"
     ]
    }
   ],
   "source": [
    "# Tokenize each article into sentences and count the number of sentences\n",
    "train_df['article_sentence_counts'] = train_df['article'].apply(lambda x: len(sent_tokenize(x)))\n",
    "train_df['highlights_sentence_counts'] = train_df['highlights'].apply(lambda x: len(sent_tokenize(x)))\n",
    "\n",
    "# Calculate the average number of sentences\n",
    "train_art_avg_sentence_count = train_df['article_sentence_counts'].mean()\n",
    "train_high_avg_sentence_count = train_df['highlights_sentence_counts'].mean()\n",
    "\n",
    "print(\"Train Article Avg # of sentences per article:\", train_art_avg_sentence_count)\n",
    "print(\"Train Highlights Avg # of sentences per article:\", train_high_avg_sentence_count)"
   ]
  },
  {
   "cell_type": "code",
   "execution_count": 22,
   "id": "beccb5a4",
   "metadata": {},
   "outputs": [
    {
     "name": "stdout",
     "output_type": "stream",
     "text": [
      "Test Article Avg # of sentences per article: 33.37006092254134\n",
      "Test Highlights Avg # of sentences per article: 3.7911227154046996\n"
     ]
    }
   ],
   "source": [
    "# Tokenize each article into sentences and count the number of sentences\n",
    "test_df['article_sentence_counts'] = test_df['article'].apply(lambda x: len(sent_tokenize(x)))\n",
    "test_df['highlights_sentence_counts'] = test_df['highlights'].apply(lambda x: len(sent_tokenize(x)))\n",
    "\n",
    "# Calculate the average number of sentences\n",
    "test_art_avg_sentence_count = test_df['article_sentence_counts'].mean()\n",
    "test_high_avg_sentence_count = test_df['highlights_sentence_counts'].mean()\n",
    "\n",
    "print(\"Test Article Avg # of sentences per article:\", test_art_avg_sentence_count)\n",
    "print(\"Test Highlights Avg # of sentences per article:\", test_high_avg_sentence_count)"
   ]
  },
  {
   "cell_type": "code",
   "execution_count": 23,
   "id": "f0509707",
   "metadata": {},
   "outputs": [
    {
     "name": "stdout",
     "output_type": "stream",
     "text": [
      "Validation Article Avg # of sentences per article: 32.79061938958707\n",
      "Validation Highlights Avg # of sentences per article: 4.000598444045481\n"
     ]
    }
   ],
   "source": [
    "# Tokenize each article into sentences and count the number of sentences\n",
    "validation_df['article_sentence_counts'] = validation_df['article'].apply(lambda x: len(sent_tokenize(x)))\n",
    "validation_df['highlights_sentence_counts'] = validation_df['highlights'].apply(lambda x: len(sent_tokenize(x)))\n",
    "\n",
    "# Calculate the average number of sentences\n",
    "validation_art_avg_sentence_count = validation_df['article_sentence_counts'].mean()\n",
    "validation_high_avg_sentence_count = validation_df['highlights_sentence_counts'].mean()\n",
    "\n",
    "print(\"Validation Article Avg # of sentences per article:\", validation_art_avg_sentence_count)\n",
    "print(\"Validation Highlights Avg # of sentences per article:\", validation_high_avg_sentence_count)"
   ]
  },
  {
   "cell_type": "code",
   "execution_count": 24,
   "id": "4bc0cbff",
   "metadata": {},
   "outputs": [
    {
     "data": {
      "image/png": "[encoded data removed]",
      "text/plain": [
       "<Figure size 800x800 with 6 Axes>"
      ]
     },
     "metadata": {},
     "output_type": "display_data"
    }
   ],
   "source": [
    "logging.info(f\"Plotting sentences count Histogram for train, test and validation Dataset\")\n",
    "\n",
    "import matplotlib.pyplot as plt\n",
    "plt.rcParams['font.family'] = 'serif'\n",
    "plt.rcParams['font.serif'] = ['Times New Roman']\n",
    "\n",
    "# Generating sample data\n",
    "data = [np.random.randn(1000) for _ in range(6)]\n",
    "\n",
    "# Creating subplots\n",
    "fig, axs = plt.subplots(3, 2, figsize=(8, 8))\n",
    "\n",
    "# Add titles\n",
    "fig.suptitle('Distribution of Sentences in CNN Dailymail Dataset', fontsize=12)\n",
    "fig.supxlabel('Sentences',fontsize='medium')\n",
    "fig.supylabel('Count',fontsize='medium')\n",
    "\n",
    "axs[0, 0].hist(train_df['article_sentence_counts'], bins=30,  alpha=0.5)\n",
    "axs[0, 0].set_xlim(0, 250)  \n",
    "axs[0, 0].set_title('Train - Article', fontsize=9)\n",
    "\n",
    "axs[0, 1].hist(train_df['highlights_sentence_counts'], bins=30,  alpha=0.5)\n",
    "axs[0, 1].set_xlim(0, 15) \n",
    "axs[0, 1].set_title('Train - Highlight', fontsize=10)\n",
    "\n",
    "axs[1, 0].hist(test_df['article_sentence_counts'], bins=30,  alpha=0.5)\n",
    "axs[1, 0].set_xlim(0, 250)   \n",
    "axs[1, 0].set_title('Test - Article', fontsize=10)\n",
    "\n",
    "axs[1, 1].hist(test_df['highlights_sentence_counts'], bins=30,  alpha=0.5)\n",
    "axs[1, 1].set_xlim(0, 15)  \n",
    "axs[1, 1].set_title('Test - Highlight', fontsize=10)\n",
    "\n",
    "axs[2, 0].hist(validation_df['article_sentence_counts'], bins=30,  alpha=0.5)\n",
    "axs[2, 0].set_xlim(0, 250) \n",
    "axs[2, 0].set_title('Validation - Article', fontsize=10)\n",
    "\n",
    "axs[2, 1].hist(validation_df['highlights_sentence_counts'], bins=30,  alpha=0.5)\n",
    "axs[2, 1].set_xlim(0, 15)   \n",
    "axs[2, 1].set_title('Validation - Highlight', fontsize=10)\n",
    "\n",
    "# Adjust layout\n",
    "plt.tight_layout()\n",
    "\n",
    "# Show plot\n",
    "plt.show()"
   ]
  },
  {
   "cell_type": "code",
   "execution_count": 25,
   "id": "d9372066",
   "metadata": {},
   "outputs": [
    {
     "name": "stderr",
     "output_type": "stream",
     "text": [
      "[nltk_data] Downloading package punkt to\n",
      "[nltk_data]     C:\\Users\\Dell\\AppData\\Roaming\\nltk_data...\n",
      "[nltk_data]   Package punkt is already up-to-date!\n"
     ]
    }
   ],
   "source": [
    "import pandas as pd\n",
    "import nltk\n",
    "nltk.download('punkt')  # Download punkt tokenizer if not already downloaded\n",
    "from nltk.tokenize import word_tokenize\n",
    "\n",
    "# Tokenize each article into words and count the number of words\n",
    "train_df['Article_word_counts'] = train_df['article'].apply(lambda x: len(word_tokenize(x)))\n",
    "train_df['Highlights_word_counts'] = train_df['highlights'].apply(lambda x: len(word_tokenize(x)))\n",
    "\n",
    "test_df['Article_word_counts'] = test_df['article'].apply(lambda x: len(word_tokenize(x)))\n",
    "test_df['Highlights_word_counts'] = test_df['highlights'].apply(lambda x: len(word_tokenize(x)))\n",
    "\n",
    "validation_df['Article_word_counts'] = validation_df['article'].apply(lambda x: len(word_tokenize(x)))\n",
    "validation_df['Highlights_word_counts'] = validation_df['highlights'].apply(lambda x: len(word_tokenize(x)))\n"
   ]
  },
  {
   "cell_type": "code",
   "execution_count": 26,
   "id": "189dd407",
   "metadata": {},
   "outputs": [
    {
     "data": {
      "text/html": [
       "<div>\n",
       "<style scoped>\n",
       "    .dataframe tbody tr th:only-of-type {\n",
       "        vertical-align: middle;\n",
       "    }\n",
       "\n",
       "    .dataframe tbody tr th {\n",
       "        vertical-align: top;\n",
       "    }\n",
       "\n",
       "    .dataframe thead th {\n",
       "        text-align: right;\n",
       "    }\n",
       "</style>\n",
       "<table border=\"1\" class=\"dataframe\">\n",
       "  <thead>\n",
       "    <tr style=\"text-align: right;\">\n",
       "      <th></th>\n",
       "      <th>article</th>\n",
       "      <th>highlights</th>\n",
       "      <th>article_len</th>\n",
       "      <th>highlights_len</th>\n",
       "      <th>article_sentence_counts</th>\n",
       "      <th>highlights_sentence_counts</th>\n",
       "      <th>Article_word_counts</th>\n",
       "      <th>Highlights_word_counts</th>\n",
       "    </tr>\n",
       "  </thead>\n",
       "  <tbody>\n",
       "    <tr>\n",
       "      <th>0</th>\n",
       "      <td>By . Associated Press . PUBLISHED: . 14:11 EST...</td>\n",
       "      <td>Bishop John Folda, of North Dakota, is taking ...</td>\n",
       "      <td>198</td>\n",
       "      <td>37</td>\n",
       "      <td>15</td>\n",
       "      <td>3</td>\n",
       "      <td>219</td>\n",
       "      <td>40</td>\n",
       "    </tr>\n",
       "    <tr>\n",
       "      <th>1</th>\n",
       "      <td>(CNN) -- Ralph Mata was an internal affairs li...</td>\n",
       "      <td>Criminal complaint: Cop used his role to help ...</td>\n",
       "      <td>392</td>\n",
       "      <td>38</td>\n",
       "      <td>18</td>\n",
       "      <td>3</td>\n",
       "      <td>446</td>\n",
       "      <td>42</td>\n",
       "    </tr>\n",
       "    <tr>\n",
       "      <th>2</th>\n",
       "      <td>A drunk driver who killed a young woman in a h...</td>\n",
       "      <td>Craig Eccleston-Todd, 27, had drunk at least t...</td>\n",
       "      <td>808</td>\n",
       "      <td>69</td>\n",
       "      <td>35</td>\n",
       "      <td>5</td>\n",
       "      <td>925</td>\n",
       "      <td>74</td>\n",
       "    </tr>\n",
       "    <tr>\n",
       "      <th>3</th>\n",
       "      <td>(CNN) -- With a breezy sweep of his pen Presid...</td>\n",
       "      <td>Nina dos Santos says Europe must be ready to a...</td>\n",
       "      <td>531</td>\n",
       "      <td>53</td>\n",
       "      <td>22</td>\n",
       "      <td>3</td>\n",
       "      <td>589</td>\n",
       "      <td>55</td>\n",
       "    </tr>\n",
       "    <tr>\n",
       "      <th>4</th>\n",
       "      <td>Fleetwood are the only team still to have a 10...</td>\n",
       "      <td>Fleetwood top of League One after 2-0 win at S...</td>\n",
       "      <td>580</td>\n",
       "      <td>67</td>\n",
       "      <td>25</td>\n",
       "      <td>6</td>\n",
       "      <td>657</td>\n",
       "      <td>69</td>\n",
       "    </tr>\n",
       "  </tbody>\n",
       "</table>\n",
       "</div>"
      ],
      "text/plain": [
       "                                             article  \\\n",
       "0  By . Associated Press . PUBLISHED: . 14:11 EST...   \n",
       "1  (CNN) -- Ralph Mata was an internal affairs li...   \n",
       "2  A drunk driver who killed a young woman in a h...   \n",
       "3  (CNN) -- With a breezy sweep of his pen Presid...   \n",
       "4  Fleetwood are the only team still to have a 10...   \n",
       "\n",
       "                                          highlights  article_len  \\\n",
       "0  Bishop John Folda, of North Dakota, is taking ...          198   \n",
       "1  Criminal complaint: Cop used his role to help ...          392   \n",
       "2  Craig Eccleston-Todd, 27, had drunk at least t...          808   \n",
       "3  Nina dos Santos says Europe must be ready to a...          531   \n",
       "4  Fleetwood top of League One after 2-0 win at S...          580   \n",
       "\n",
       "   highlights_len  article_sentence_counts  highlights_sentence_counts  \\\n",
       "0              37                       15                           3   \n",
       "1              38                       18                           3   \n",
       "2              69                       35                           5   \n",
       "3              53                       22                           3   \n",
       "4              67                       25                           6   \n",
       "\n",
       "   Article_word_counts  Highlights_word_counts  \n",
       "0                  219                      40  \n",
       "1                  446                      42  \n",
       "2                  925                      74  \n",
       "3                  589                      55  \n",
       "4                  657                      69  "
      ]
     },
     "execution_count": 26,
     "metadata": {},
     "output_type": "execute_result"
    }
   ],
   "source": [
    "train_df.head()"
   ]
  },
  {
   "cell_type": "code",
   "execution_count": 27,
   "id": "5fa7ccc7",
   "metadata": {},
   "outputs": [],
   "source": [
    "# Calculate the average number of words\n",
    "train_art_avg_word_count = train_df['Article_word_counts'].mean()\n",
    "train_high_avg_word_count = train_df['Highlights_word_counts'].mean()\n",
    "\n",
    "test_art_avg_word_count = test_df['Article_word_counts'].mean()\n",
    "test_high_avg_word_count = test_df['Highlights_word_counts'].mean()\n",
    "\n",
    "validation_art_avg_word_count = validation_df['Article_word_counts'].mean()\n",
    "validation_high_avg_word_count = validation_df['Highlights_word_counts'].mean()\n",
    "\n",
    "logging.info(f\"Train Article Avg # of words per article: {train_art_avg_word_count}\")\n",
    "logging.info(f\"Train Highlights Avg # of words per article: {train_high_avg_word_count}\")\n",
    "\n",
    "logging.info(f\"Test Article Avg # of words per article: {test_art_avg_word_count}\")\n",
    "logging.info(f\"Test Highlights Avg # of words per article: {test_high_avg_word_count}\")\n",
    "\n",
    "logging.info(f\"Validation Article Avg # of words per article:{validation_art_avg_word_count}\")\n",
    "logging.info(f\"Validation Highlights Avg # of words per article:{validation_high_avg_word_count}\")"
   ]
  },
  {
   "cell_type": "code",
   "execution_count": 28,
   "id": "3fcbd4f2",
   "metadata": {},
   "outputs": [],
   "source": [
    "logging.info(f\"Plotting Average # of Sentences for train, test and validation dataset\")\n",
    "\n",
    "ds_list = ['Train', 'Test' , 'Validation']\n",
    "article_sentence_avg_count = [train_art_avg_sentence_count, test_art_avg_sentence_count, validation_art_avg_sentence_count]\n",
    "article_words_avg_count = [train_art_avg_word_count,test_art_avg_word_count,validation_art_avg_word_count]\n",
    "highlights_sentence_avg_count = [train_high_avg_sentence_count, test_high_avg_sentence_count, validation_high_avg_sentence_count]\n",
    "highlights_words_avg_count = [train_high_avg_word_count,test_high_avg_word_count,validation_high_avg_word_count]\n"
   ]
  },
  {
   "cell_type": "code",
   "execution_count": 29,
   "id": "0124bea7",
   "metadata": {
    "scrolled": true
   },
   "outputs": [
    {
     "data": {
      "text/plain": [
       "Text(0, 0.5, 'Avg # of Sentences')"
      ]
     },
     "execution_count": 29,
     "metadata": {},
     "output_type": "execute_result"
    },
    {
     "data": {
      "image/png": "[encoded data removed]",
      "text/plain": [
       "<Figure size 600x300 with 1 Axes>"
      ]
     },
     "metadata": {},
     "output_type": "display_data"
    }
   ],
   "source": [
    "sentences_plotdata = pd.DataFrame(\n",
    "    {\n",
    "      \"Article\":[train_art_avg_sentence_count, test_art_avg_sentence_count,validation_art_avg_sentence_count],\n",
    "      \"Highlights\":[train_high_avg_sentence_count,test_high_avg_sentence_count,validation_high_avg_sentence_count]\n",
    "    },\n",
    "      index =['Train', 'Test', 'Validation']\n",
    ")\n",
    "\n",
    "\n",
    "sentences_plotdata.plot(kind=\"bar\",figsize=(6, 3))\n",
    "\n",
    "plt.title(\"Plot - Average Number of Sentences\", fontsize=12, fontname='Times New Roman')\n",
    "plt.xticks(rotation=0 , fontsize=10, fontname='Times New Roman')\n",
    "plt.legend(prop={'family': 'Times New Roman'})\n",
    "plt.ylabel(\"Avg # of Sentences\", fontsize=10, fontname='Times New Roman')"
   ]
  },
  {
   "cell_type": "code",
   "execution_count": 30,
   "id": "fb1aa1be",
   "metadata": {},
   "outputs": [
    {
     "data": {
      "text/html": [
       "<div>\n",
       "<style scoped>\n",
       "    .dataframe tbody tr th:only-of-type {\n",
       "        vertical-align: middle;\n",
       "    }\n",
       "\n",
       "    .dataframe tbody tr th {\n",
       "        vertical-align: top;\n",
       "    }\n",
       "\n",
       "    .dataframe thead th {\n",
       "        text-align: right;\n",
       "    }\n",
       "</style>\n",
       "<table border=\"1\" class=\"dataframe\">\n",
       "  <thead>\n",
       "    <tr style=\"text-align: right;\">\n",
       "      <th></th>\n",
       "      <th>Article</th>\n",
       "      <th>Highlights</th>\n",
       "    </tr>\n",
       "  </thead>\n",
       "  <tbody>\n",
       "    <tr>\n",
       "      <th>Train</th>\n",
       "      <td>39.095704</td>\n",
       "      <td>3.682644</td>\n",
       "    </tr>\n",
       "    <tr>\n",
       "      <th>Test</th>\n",
       "      <td>33.370061</td>\n",
       "      <td>3.791123</td>\n",
       "    </tr>\n",
       "    <tr>\n",
       "      <th>Validation</th>\n",
       "      <td>32.790619</td>\n",
       "      <td>4.000598</td>\n",
       "    </tr>\n",
       "  </tbody>\n",
       "</table>\n",
       "</div>"
      ],
      "text/plain": [
       "              Article  Highlights\n",
       "Train       39.095704    3.682644\n",
       "Test        33.370061    3.791123\n",
       "Validation  32.790619    4.000598"
      ]
     },
     "execution_count": 30,
     "metadata": {},
     "output_type": "execute_result"
    }
   ],
   "source": [
    "logging.info(f\"Average Sentences:\\n{sentences_plotdata}\")\n",
    "sentences_plotdata"
   ]
  },
  {
   "cell_type": "code",
   "execution_count": 31,
   "id": "7792a447",
   "metadata": {},
   "outputs": [
    {
     "data": {
      "text/plain": [
       "Text(0, 0.5, 'Avg # of Words')"
      ]
     },
     "execution_count": 31,
     "metadata": {},
     "output_type": "execute_result"
    },
    {
     "data": {
      "image/png": "[encoded data removed]",
      "text/plain": [
       "<Figure size 600x300 with 1 Axes>"
      ]
     },
     "metadata": {},
     "output_type": "display_data"
    }
   ],
   "source": [
    "logging.info(f\"Plotting Average # of words for train, test and validation dataset\")\n",
    "\n",
    "words_plotdata = pd.DataFrame(\n",
    "    {\n",
    "      \"Article\":[train_art_avg_word_count, test_art_avg_word_count,validation_art_avg_word_count],\n",
    "      \"Highlights\":[train_high_avg_word_count,test_high_avg_word_count,validation_high_avg_word_count]\n",
    "    },\n",
    "      index =['Train', 'Test', 'Validation']\n",
    ")\n",
    "\n",
    "\n",
    "words_plotdata.plot(kind=\"bar\",figsize=(6, 3))\n",
    "\n",
    "plt.title(\"Plot - Average Number of Words\", fontsize=12, fontname='Times New Roman')\n",
    "plt.xticks(rotation=0 , fontsize=10, fontname='Times New Roman')\n",
    "plt.legend(prop={'family': 'Times New Roman'})\n",
    "plt.ylabel(\"Avg # of Words\", fontsize=10, fontname='Times New Roman')"
   ]
  },
  {
   "cell_type": "code",
   "execution_count": 32,
   "id": "2161c16f",
   "metadata": {},
   "outputs": [
    {
     "data": {
      "text/html": [
       "<div>\n",
       "<style scoped>\n",
       "    .dataframe tbody tr th:only-of-type {\n",
       "        vertical-align: middle;\n",
       "    }\n",
       "\n",
       "    .dataframe tbody tr th {\n",
       "        vertical-align: top;\n",
       "    }\n",
       "\n",
       "    .dataframe thead th {\n",
       "        text-align: right;\n",
       "    }\n",
       "</style>\n",
       "<table border=\"1\" class=\"dataframe\">\n",
       "  <thead>\n",
       "    <tr style=\"text-align: right;\">\n",
       "      <th></th>\n",
       "      <th>Article</th>\n",
       "      <th>Highlights</th>\n",
       "    </tr>\n",
       "  </thead>\n",
       "  <tbody>\n",
       "    <tr>\n",
       "      <th>Train</th>\n",
       "      <td>788.265321</td>\n",
       "      <td>54.683585</td>\n",
       "    </tr>\n",
       "    <tr>\n",
       "      <th>Test</th>\n",
       "      <td>773.225762</td>\n",
       "      <td>57.754917</td>\n",
       "    </tr>\n",
       "    <tr>\n",
       "      <th>Validation</th>\n",
       "      <td>764.394225</td>\n",
       "      <td>60.813435</td>\n",
       "    </tr>\n",
       "  </tbody>\n",
       "</table>\n",
       "</div>"
      ],
      "text/plain": [
       "               Article  Highlights\n",
       "Train       788.265321   54.683585\n",
       "Test        773.225762   57.754917\n",
       "Validation  764.394225   60.813435"
      ]
     },
     "execution_count": 32,
     "metadata": {},
     "output_type": "execute_result"
    }
   ],
   "source": [
    "logging.info(f\"Average words:\\n{words_plotdata}\")\n",
    "words_plotdata"
   ]
  },
  {
   "cell_type": "code",
   "execution_count": 33,
   "id": "d57783c9",
   "metadata": {},
   "outputs": [],
   "source": [
    "train_df.to_csv('./output/train_metrics.csv')\n",
    "test_df.to_csv('./output/test_metrics.csv')\n",
    "validation_df.to_csv('./output/validation_metrics.csv')\n",
    "\n",
    "logging.info(f\"Saving metrics of train, test and validation dataset completed\")"
   ]
  },
  {
   "cell_type": "code",
   "execution_count": 34,
   "id": "718c6182",
   "metadata": {},
   "outputs": [
    {
     "data": {
      "text/html": [
       "<div>\n",
       "<style scoped>\n",
       "    .dataframe tbody tr th:only-of-type {\n",
       "        vertical-align: middle;\n",
       "    }\n",
       "\n",
       "    .dataframe tbody tr th {\n",
       "        vertical-align: top;\n",
       "    }\n",
       "\n",
       "    .dataframe thead th {\n",
       "        text-align: right;\n",
       "    }\n",
       "</style>\n",
       "<table border=\"1\" class=\"dataframe\">\n",
       "  <thead>\n",
       "    <tr style=\"text-align: right;\">\n",
       "      <th></th>\n",
       "      <th>article</th>\n",
       "      <th>highlights</th>\n",
       "      <th>article_len</th>\n",
       "      <th>highlights_len</th>\n",
       "      <th>article_sentence_counts</th>\n",
       "      <th>highlights_sentence_counts</th>\n",
       "      <th>Article_word_counts</th>\n",
       "      <th>Highlights_word_counts</th>\n",
       "    </tr>\n",
       "  </thead>\n",
       "  <tbody>\n",
       "    <tr>\n",
       "      <th>0</th>\n",
       "      <td>By . Associated Press . PUBLISHED: . 14:11 EST...</td>\n",
       "      <td>Bishop John Folda, of North Dakota, is taking ...</td>\n",
       "      <td>198</td>\n",
       "      <td>37</td>\n",
       "      <td>15</td>\n",
       "      <td>3</td>\n",
       "      <td>219</td>\n",
       "      <td>40</td>\n",
       "    </tr>\n",
       "    <tr>\n",
       "      <th>1</th>\n",
       "      <td>(CNN) -- Ralph Mata was an internal affairs li...</td>\n",
       "      <td>Criminal complaint: Cop used his role to help ...</td>\n",
       "      <td>392</td>\n",
       "      <td>38</td>\n",
       "      <td>18</td>\n",
       "      <td>3</td>\n",
       "      <td>446</td>\n",
       "      <td>42</td>\n",
       "    </tr>\n",
       "    <tr>\n",
       "      <th>2</th>\n",
       "      <td>A drunk driver who killed a young woman in a h...</td>\n",
       "      <td>Craig Eccleston-Todd, 27, had drunk at least t...</td>\n",
       "      <td>808</td>\n",
       "      <td>69</td>\n",
       "      <td>35</td>\n",
       "      <td>5</td>\n",
       "      <td>925</td>\n",
       "      <td>74</td>\n",
       "    </tr>\n",
       "    <tr>\n",
       "      <th>3</th>\n",
       "      <td>(CNN) -- With a breezy sweep of his pen Presid...</td>\n",
       "      <td>Nina dos Santos says Europe must be ready to a...</td>\n",
       "      <td>531</td>\n",
       "      <td>53</td>\n",
       "      <td>22</td>\n",
       "      <td>3</td>\n",
       "      <td>589</td>\n",
       "      <td>55</td>\n",
       "    </tr>\n",
       "    <tr>\n",
       "      <th>4</th>\n",
       "      <td>Fleetwood are the only team still to have a 10...</td>\n",
       "      <td>Fleetwood top of League One after 2-0 win at S...</td>\n",
       "      <td>580</td>\n",
       "      <td>67</td>\n",
       "      <td>25</td>\n",
       "      <td>6</td>\n",
       "      <td>657</td>\n",
       "      <td>69</td>\n",
       "    </tr>\n",
       "  </tbody>\n",
       "</table>\n",
       "</div>"
      ],
      "text/plain": [
       "                                             article  \\\n",
       "0  By . Associated Press . PUBLISHED: . 14:11 EST...   \n",
       "1  (CNN) -- Ralph Mata was an internal affairs li...   \n",
       "2  A drunk driver who killed a young woman in a h...   \n",
       "3  (CNN) -- With a breezy sweep of his pen Presid...   \n",
       "4  Fleetwood are the only team still to have a 10...   \n",
       "\n",
       "                                          highlights  article_len  \\\n",
       "0  Bishop John Folda, of North Dakota, is taking ...          198   \n",
       "1  Criminal complaint: Cop used his role to help ...          392   \n",
       "2  Craig Eccleston-Todd, 27, had drunk at least t...          808   \n",
       "3  Nina dos Santos says Europe must be ready to a...          531   \n",
       "4  Fleetwood top of League One after 2-0 win at S...          580   \n",
       "\n",
       "   highlights_len  article_sentence_counts  highlights_sentence_counts  \\\n",
       "0              37                       15                           3   \n",
       "1              38                       18                           3   \n",
       "2              69                       35                           5   \n",
       "3              53                       22                           3   \n",
       "4              67                       25                           6   \n",
       "\n",
       "   Article_word_counts  Highlights_word_counts  \n",
       "0                  219                      40  \n",
       "1                  446                      42  \n",
       "2                  925                      74  \n",
       "3                  589                      55  \n",
       "4                  657                      69  "
      ]
     },
     "execution_count": 34,
     "metadata": {},
     "output_type": "execute_result"
    }
   ],
   "source": [
    "train_df.head()"
   ]
  },
  {
   "cell_type": "code",
   "execution_count": 35,
   "id": "2b578cc5",
   "metadata": {},
   "outputs": [
    {
     "data": {
      "text/html": [
       "<div>\n",
       "<style scoped>\n",
       "    .dataframe tbody tr th:only-of-type {\n",
       "        vertical-align: middle;\n",
       "    }\n",
       "\n",
       "    .dataframe tbody tr th {\n",
       "        vertical-align: top;\n",
       "    }\n",
       "\n",
       "    .dataframe thead th {\n",
       "        text-align: right;\n",
       "    }\n",
       "</style>\n",
       "<table border=\"1\" class=\"dataframe\">\n",
       "  <thead>\n",
       "    <tr style=\"text-align: right;\">\n",
       "      <th></th>\n",
       "      <th>article</th>\n",
       "      <th>highlights</th>\n",
       "      <th>article_len</th>\n",
       "      <th>highlights_len</th>\n",
       "      <th>article_sentence_counts</th>\n",
       "      <th>highlights_sentence_counts</th>\n",
       "      <th>Article_word_counts</th>\n",
       "      <th>Highlights_word_counts</th>\n",
       "    </tr>\n",
       "  </thead>\n",
       "  <tbody>\n",
       "    <tr>\n",
       "      <th>0</th>\n",
       "      <td>Ever noticed how plane seats appear to be gett...</td>\n",
       "      <td>Experts question if  packed out planes are put...</td>\n",
       "      <td>370</td>\n",
       "      <td>36</td>\n",
       "      <td>16</td>\n",
       "      <td>3</td>\n",
       "      <td>409</td>\n",
       "      <td>36</td>\n",
       "    </tr>\n",
       "    <tr>\n",
       "      <th>1</th>\n",
       "      <td>A drunk teenage boy had to be rescued by secur...</td>\n",
       "      <td>Drunk teenage boy climbed into lion enclosure ...</td>\n",
       "      <td>311</td>\n",
       "      <td>38</td>\n",
       "      <td>14</td>\n",
       "      <td>3</td>\n",
       "      <td>359</td>\n",
       "      <td>42</td>\n",
       "    </tr>\n",
       "    <tr>\n",
       "      <th>2</th>\n",
       "      <td>Dougie Freedman is on the verge of agreeing a ...</td>\n",
       "      <td>Nottingham Forest are close to extending Dougi...</td>\n",
       "      <td>110</td>\n",
       "      <td>35</td>\n",
       "      <td>6</td>\n",
       "      <td>3</td>\n",
       "      <td>116</td>\n",
       "      <td>36</td>\n",
       "    </tr>\n",
       "    <tr>\n",
       "      <th>3</th>\n",
       "      <td>Liverpool target Neto is also wanted by PSG an...</td>\n",
       "      <td>Fiorentina goalkeeper Neto has been linked wit...</td>\n",
       "      <td>308</td>\n",
       "      <td>44</td>\n",
       "      <td>15</td>\n",
       "      <td>4</td>\n",
       "      <td>336</td>\n",
       "      <td>45</td>\n",
       "    </tr>\n",
       "    <tr>\n",
       "      <th>4</th>\n",
       "      <td>Bruce Jenner will break his silence in a two-h...</td>\n",
       "      <td>Tell-all interview with the reality TV star, 6...</td>\n",
       "      <td>749</td>\n",
       "      <td>61</td>\n",
       "      <td>34</td>\n",
       "      <td>3</td>\n",
       "      <td>861</td>\n",
       "      <td>64</td>\n",
       "    </tr>\n",
       "  </tbody>\n",
       "</table>\n",
       "</div>"
      ],
      "text/plain": [
       "                                             article  \\\n",
       "0  Ever noticed how plane seats appear to be gett...   \n",
       "1  A drunk teenage boy had to be rescued by secur...   \n",
       "2  Dougie Freedman is on the verge of agreeing a ...   \n",
       "3  Liverpool target Neto is also wanted by PSG an...   \n",
       "4  Bruce Jenner will break his silence in a two-h...   \n",
       "\n",
       "                                          highlights  article_len  \\\n",
       "0  Experts question if  packed out planes are put...          370   \n",
       "1  Drunk teenage boy climbed into lion enclosure ...          311   \n",
       "2  Nottingham Forest are close to extending Dougi...          110   \n",
       "3  Fiorentina goalkeeper Neto has been linked wit...          308   \n",
       "4  Tell-all interview with the reality TV star, 6...          749   \n",
       "\n",
       "   highlights_len  article_sentence_counts  highlights_sentence_counts  \\\n",
       "0              36                       16                           3   \n",
       "1              38                       14                           3   \n",
       "2              35                        6                           3   \n",
       "3              44                       15                           4   \n",
       "4              61                       34                           3   \n",
       "\n",
       "   Article_word_counts  Highlights_word_counts  \n",
       "0                  409                      36  \n",
       "1                  359                      42  \n",
       "2                  116                      36  \n",
       "3                  336                      45  \n",
       "4                  861                      64  "
      ]
     },
     "execution_count": 35,
     "metadata": {},
     "output_type": "execute_result"
    }
   ],
   "source": [
    "test_df.head()"
   ]
  },
  {
   "cell_type": "code",
   "execution_count": 36,
   "id": "a03a95db",
   "metadata": {},
   "outputs": [
    {
     "data": {
      "text/html": [
       "<div>\n",
       "<style scoped>\n",
       "    .dataframe tbody tr th:only-of-type {\n",
       "        vertical-align: middle;\n",
       "    }\n",
       "\n",
       "    .dataframe tbody tr th {\n",
       "        vertical-align: top;\n",
       "    }\n",
       "\n",
       "    .dataframe thead th {\n",
       "        text-align: right;\n",
       "    }\n",
       "</style>\n",
       "<table border=\"1\" class=\"dataframe\">\n",
       "  <thead>\n",
       "    <tr style=\"text-align: right;\">\n",
       "      <th></th>\n",
       "      <th>article</th>\n",
       "      <th>highlights</th>\n",
       "      <th>article_len</th>\n",
       "      <th>highlights_len</th>\n",
       "      <th>article_sentence_counts</th>\n",
       "      <th>highlights_sentence_counts</th>\n",
       "      <th>Article_word_counts</th>\n",
       "      <th>Highlights_word_counts</th>\n",
       "    </tr>\n",
       "  </thead>\n",
       "  <tbody>\n",
       "    <tr>\n",
       "      <th>0</th>\n",
       "      <td>Sally Forrest, an actress-dancer who graced th...</td>\n",
       "      <td>Sally Forrest, an actress-dancer who graced th...</td>\n",
       "      <td>264</td>\n",
       "      <td>58</td>\n",
       "      <td>15</td>\n",
       "      <td>3</td>\n",
       "      <td>307</td>\n",
       "      <td>63</td>\n",
       "    </tr>\n",
       "    <tr>\n",
       "      <th>1</th>\n",
       "      <td>A middle-school teacher in China has inked hun...</td>\n",
       "      <td>Works include pictures of Presidential Palace ...</td>\n",
       "      <td>551</td>\n",
       "      <td>36</td>\n",
       "      <td>27</td>\n",
       "      <td>3</td>\n",
       "      <td>624</td>\n",
       "      <td>36</td>\n",
       "    </tr>\n",
       "    <tr>\n",
       "      <th>2</th>\n",
       "      <td>A man convicted of killing the father and sist...</td>\n",
       "      <td>Iftekhar Murtaza, 29, was convicted a year ago...</td>\n",
       "      <td>465</td>\n",
       "      <td>114</td>\n",
       "      <td>20</td>\n",
       "      <td>6</td>\n",
       "      <td>529</td>\n",
       "      <td>125</td>\n",
       "    </tr>\n",
       "    <tr>\n",
       "      <th>3</th>\n",
       "      <td>Avid rugby fan Prince Harry could barely watch...</td>\n",
       "      <td>Prince Harry in attendance for England's crunc...</td>\n",
       "      <td>580</td>\n",
       "      <td>51</td>\n",
       "      <td>27</td>\n",
       "      <td>4</td>\n",
       "      <td>640</td>\n",
       "      <td>55</td>\n",
       "    </tr>\n",
       "    <tr>\n",
       "      <th>4</th>\n",
       "      <td>A Triple M Radio producer has been inundated w...</td>\n",
       "      <td>Nick Slater's colleagues uploaded a picture to...</td>\n",
       "      <td>338</td>\n",
       "      <td>36</td>\n",
       "      <td>18</td>\n",
       "      <td>3</td>\n",
       "      <td>386</td>\n",
       "      <td>39</td>\n",
       "    </tr>\n",
       "  </tbody>\n",
       "</table>\n",
       "</div>"
      ],
      "text/plain": [
       "                                             article  \\\n",
       "0  Sally Forrest, an actress-dancer who graced th...   \n",
       "1  A middle-school teacher in China has inked hun...   \n",
       "2  A man convicted of killing the father and sist...   \n",
       "3  Avid rugby fan Prince Harry could barely watch...   \n",
       "4  A Triple M Radio producer has been inundated w...   \n",
       "\n",
       "                                          highlights  article_len  \\\n",
       "0  Sally Forrest, an actress-dancer who graced th...          264   \n",
       "1  Works include pictures of Presidential Palace ...          551   \n",
       "2  Iftekhar Murtaza, 29, was convicted a year ago...          465   \n",
       "3  Prince Harry in attendance for England's crunc...          580   \n",
       "4  Nick Slater's colleagues uploaded a picture to...          338   \n",
       "\n",
       "   highlights_len  article_sentence_counts  highlights_sentence_counts  \\\n",
       "0              58                       15                           3   \n",
       "1              36                       27                           3   \n",
       "2             114                       20                           6   \n",
       "3              51                       27                           4   \n",
       "4              36                       18                           3   \n",
       "\n",
       "   Article_word_counts  Highlights_word_counts  \n",
       "0                  307                      63  \n",
       "1                  624                      36  \n",
       "2                  529                     125  \n",
       "3                  640                      55  \n",
       "4                  386                      39  "
      ]
     },
     "execution_count": 36,
     "metadata": {},
     "output_type": "execute_result"
    }
   ],
   "source": [
    "validation_df.head()"
   ]
  },
  {
   "cell_type": "code",
   "execution_count": 37,
   "id": "b28f1dd1",
   "metadata": {},
   "outputs": [],
   "source": [
    "logging.info(\"Exploratory Data Analysis Completed \")"
   ]
  }
 ],
 "metadata": {
  "kernelspec": {
   "display_name": "Python 3 (ipykernel)",
   "language": "python",
   "name": "python3"
  },
  "language_info": {
   "codemirror_mode": {
    "name": "ipython",
    "version": 3
   },
   "file_extension": ".py",
   "mimetype": "text/x-python",
   "name": "python",
   "nbconvert_exporter": "python",
   "pygments_lexer": "ipython3",
   "version": "3.11.5"
  }
 },
 "nbformat": 4,
 "nbformat_minor": 5
}
