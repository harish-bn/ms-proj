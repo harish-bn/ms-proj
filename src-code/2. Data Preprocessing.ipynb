{
 "cells": [
  {
   "cell_type": "code",
   "execution_count": 2,
   "id": "de65e12c",
   "metadata": {},
   "outputs": [
    {
     "name": "stderr",
     "output_type": "stream",
     "text": [
      "DEPRECATION: pytorch-lightning 1.5.10 has a non-standard dependency specifier torch>=1.7.*. pip 23.3 will enforce this behaviour change. A possible replacement is to upgrade to a newer version of pytorch-lightning or contact the author to suggest that they release a version with a conforming dependency specifiers. Discussion can be found at https://github.com/pypa/pip/issues/12063\n"
     ]
    }
   ],
   "source": [
    "!pip install -q nlpretext loguru"
   ]
  },
  {
   "cell_type": "code",
   "execution_count": 3,
   "id": "ef8eb0f0",
   "metadata": {},
   "outputs": [],
   "source": [
    "import pandas as pd\n",
    "import numpy as np\n",
    "from nlpretext import Preprocessor\n",
    "from nlpretext.basic.preprocess import (normalize_whitespace, remove_punct, \n",
    "                                        remove_eol_characters, remove_stopwords, \n",
    "                                        lower_text, unpack_english_contractions,remove_accents,\n",
    "                                        remove_multiple_spaces_and_strip_text,replace_urls,\n",
    "                                       replace_emails,replace_currency_symbols)\n",
    "\n",
    "from nlpretext.social.preprocess import (remove_mentions, remove_hashtag, \n",
    "                                         remove_emoji,remove_html_tags)\n",
    "\n",
    "from nlpretext.token.preprocess import (remove_tokens_with_nonletters)\n",
    "\n",
    "import logging\n",
    "import time\n",
    "import datetime\n",
    "\n",
    "import warnings\n",
    "warnings.filterwarnings(\"ignore\")"
   ]
  },
  {
   "cell_type": "code",
   "execution_count": 4,
   "id": "0a6876b9",
   "metadata": {},
   "outputs": [],
   "source": [
    "logging.basicConfig(\n",
    "    format='%(asctime)s %(levelname)-8s %(message)s',\n",
    "    datefmt='%Y-%m-%d %H:%M:%S',\n",
    "    level=logging.INFO, \n",
    "    filename='./logs/Data Preprocessing.log')   "
   ]
  },
  {
   "cell_type": "code",
   "execution_count": 5,
   "id": "4bcbfe36",
   "metadata": {},
   "outputs": [],
   "source": [
    "logging.info(\"==========================================================================================================\")\n",
    "logging.info(\"Data Preprocessing Started \")"
   ]
  },
  {
   "cell_type": "code",
   "execution_count": 6,
   "id": "6f0a95da",
   "metadata": {},
   "outputs": [],
   "source": [
    "train_df = pd.read_csv('./input/train.csv')\n",
    "test_df=pd.read_csv('./input/test.csv')\n",
    "validation_df=pd.read_csv('./input/validation.csv')\n",
    "\n",
    "logging.info(f\"Train Shape {train_df.shape}, Test Shape {test_df.shape}, Validation Shape {validation_df.shape}\")"
   ]
  },
  {
   "cell_type": "code",
   "execution_count": 7,
   "id": "9c473720",
   "metadata": {},
   "outputs": [
    {
     "name": "stdout",
     "output_type": "stream",
     "text": [
      "Article:\n",
      " By . Associated Press . PUBLISHED: . 14:11 EST, 25 October 2013 . | . UPDATED: . 15:36 EST, 25 October 2013 . The bishop of the Fargo Catholic Diocese in North Dakota has exposed potentially hundreds of church members in Fargo, Grand Forks and Jamestown to the hepatitis A virus in late September and early October. The state Health Department has issued an advisory of exposure for anyone who attended five churches and took communion. Bishop John Folda (pictured) of the Fargo Catholic Diocese in North Dakota has exposed potentially hundreds of church members in Fargo, Grand Forks and Jamestown to the hepatitis A . State Immunization Program Manager Molly Howell says the risk is low, but officials feel it's important to alert people to the possible exposure. The diocese announced on Monday that Bishop John Folda is taking time off after being diagnosed with hepatitis A. The diocese says he contracted the infection through contaminated food while attending a conference for newly ordained bishops in Italy last month. Symptoms of hepatitis A include fever, tiredness, loss of appetite, nausea and abdominal discomfort. Fargo Catholic Diocese in North Dakota (pictured) is where the bishop is located .\n",
      "Summary:\n",
      " Bishop John Folda, of North Dakota, is taking time off after being diagnosed .\n",
      "He contracted the infection through contaminated food in Italy .\n",
      "Church members in Fargo, Grand Forks and Jamestown could have been exposed .\n"
     ]
    }
   ],
   "source": [
    "print('Article:\\n', train_df.iloc[0]['article'][:2000])\n",
    "print('Summary:\\n', train_df.iloc[0]['highlights'])"
   ]
  },
  {
   "cell_type": "code",
   "execution_count": 8,
   "id": "2ff4eac4",
   "metadata": {},
   "outputs": [],
   "source": [
    "logging.info(f\"Setting up preprocessing pipeline\")"
   ]
  },
  {
   "cell_type": "code",
   "execution_count": 9,
   "id": "553e35a9",
   "metadata": {},
   "outputs": [],
   "source": [
    "preprocessor = Preprocessor()\n",
    "preprocessor.pipe(unpack_english_contractions)\n",
    "preprocessor.pipe(normalize_whitespace)\n",
    "preprocessor.pipe(remove_mentions)\n",
    "preprocessor.pipe(remove_hashtag)\n",
    "preprocessor.pipe(remove_emoji)\n",
    "preprocessor.pipe(remove_punct, args={'marks': '])\\'\\\",;:-([?'})\n",
    "preprocessor.pipe(remove_accents)\n",
    "preprocessor.pipe(replace_currency_symbols)\n",
    "preprocessor.pipe(replace_emails)\n",
    "preprocessor.pipe(replace_urls)\n",
    "preprocessor.pipe(remove_html_tags)\n",
    "preprocessor.pipe(remove_mentions)\n",
    "preprocessor.pipe(remove_hashtag)\n",
    "preprocessor.pipe(remove_emoji)"
   ]
  },
  {
   "cell_type": "code",
   "execution_count": 10,
   "id": "eb07492b",
   "metadata": {},
   "outputs": [
    {
     "data": {
      "text/html": [
       "<div>\n",
       "<style scoped>\n",
       "    .dataframe tbody tr th:only-of-type {\n",
       "        vertical-align: middle;\n",
       "    }\n",
       "\n",
       "    .dataframe tbody tr th {\n",
       "        vertical-align: top;\n",
       "    }\n",
       "\n",
       "    .dataframe thead th {\n",
       "        text-align: right;\n",
       "    }\n",
       "</style>\n",
       "<table border=\"1\" class=\"dataframe\">\n",
       "  <thead>\n",
       "    <tr style=\"text-align: right;\">\n",
       "      <th></th>\n",
       "      <th>id</th>\n",
       "      <th>article</th>\n",
       "      <th>highlights</th>\n",
       "    </tr>\n",
       "  </thead>\n",
       "  <tbody>\n",
       "    <tr>\n",
       "      <th>0</th>\n",
       "      <td>0001d1afc246a7964130f43ae940af6bc6c57f01</td>\n",
       "      <td>By . Associated Press . PUBLISHED: . 14:11 EST...</td>\n",
       "      <td>Bishop John Folda, of North Dakota, is taking ...</td>\n",
       "    </tr>\n",
       "    <tr>\n",
       "      <th>1</th>\n",
       "      <td>0002095e55fcbd3a2f366d9bf92a95433dc305ef</td>\n",
       "      <td>(CNN) -- Ralph Mata was an internal affairs li...</td>\n",
       "      <td>Criminal complaint: Cop used his role to help ...</td>\n",
       "    </tr>\n",
       "    <tr>\n",
       "      <th>2</th>\n",
       "      <td>00027e965c8264c35cc1bc55556db388da82b07f</td>\n",
       "      <td>A drunk driver who killed a young woman in a h...</td>\n",
       "      <td>Craig Eccleston-Todd, 27, had drunk at least t...</td>\n",
       "    </tr>\n",
       "    <tr>\n",
       "      <th>3</th>\n",
       "      <td>0002c17436637c4fe1837c935c04de47adb18e9a</td>\n",
       "      <td>(CNN) -- With a breezy sweep of his pen Presid...</td>\n",
       "      <td>Nina dos Santos says Europe must be ready to a...</td>\n",
       "    </tr>\n",
       "    <tr>\n",
       "      <th>4</th>\n",
       "      <td>0003ad6ef0c37534f80b55b4235108024b407f0b</td>\n",
       "      <td>Fleetwood are the only team still to have a 10...</td>\n",
       "      <td>Fleetwood top of League One after 2-0 win at S...</td>\n",
       "    </tr>\n",
       "  </tbody>\n",
       "</table>\n",
       "</div>"
      ],
      "text/plain": [
       "                                         id  \\\n",
       "0  0001d1afc246a7964130f43ae940af6bc6c57f01   \n",
       "1  0002095e55fcbd3a2f366d9bf92a95433dc305ef   \n",
       "2  00027e965c8264c35cc1bc55556db388da82b07f   \n",
       "3  0002c17436637c4fe1837c935c04de47adb18e9a   \n",
       "4  0003ad6ef0c37534f80b55b4235108024b407f0b   \n",
       "\n",
       "                                             article  \\\n",
       "0  By . Associated Press . PUBLISHED: . 14:11 EST...   \n",
       "1  (CNN) -- Ralph Mata was an internal affairs li...   \n",
       "2  A drunk driver who killed a young woman in a h...   \n",
       "3  (CNN) -- With a breezy sweep of his pen Presid...   \n",
       "4  Fleetwood are the only team still to have a 10...   \n",
       "\n",
       "                                          highlights  \n",
       "0  Bishop John Folda, of North Dakota, is taking ...  \n",
       "1  Criminal complaint: Cop used his role to help ...  \n",
       "2  Craig Eccleston-Todd, 27, had drunk at least t...  \n",
       "3  Nina dos Santos says Europe must be ready to a...  \n",
       "4  Fleetwood top of League One after 2-0 win at S...  "
      ]
     },
     "execution_count": 10,
     "metadata": {},
     "output_type": "execute_result"
    }
   ],
   "source": [
    "sample_train_df = train_df\n",
    "sample_train_df.head()"
   ]
  },
  {
   "cell_type": "code",
   "execution_count": 11,
   "id": "18e51021",
   "metadata": {},
   "outputs": [],
   "source": [
    "logging.info(f\"Cleaning Train dataset\")\n",
    "sample_train_df['article_cleaned'] = sample_train_df['article'].apply(preprocessor.run)"
   ]
  },
  {
   "cell_type": "code",
   "execution_count": 12,
   "id": "2cb0ef51",
   "metadata": {},
   "outputs": [
    {
     "name": "stdout",
     "output_type": "stream",
     "text": [
      "Article:\n",
      " Fleetwood are the only team still to have a 100% record in Sky Bet League One as a 2-0 win over Scunthorpe sent Graham Alexander’s men top of the table. The Cod Army are playing in the third tier for the first time in their history after six promotions in nine years and their remarkable ascent shows no sign of slowing with Jamie Proctor and Gareth Evans scoring the goals at Glanford Park. Fleetwood were one of five teams to have won two out of two but the other four clubs - Peterborough, Bristol City, Chesterfield and Crawley - all hit their first stumbling blocks. Posh were defeated 2-1 by Sheffield United, who had lost both of their opening contests. Jose Baxter’s opener gave the Blades a first-half lead, and although it was later cancelled out by Shaun Brisley’s goal, Ben Davies snatched a winner six minutes from time. In the lead: Jose Baxter (right) celebrates opening the scoring for Sheffield United . Up for the battle: Sheffield United's Michael Doyle (left) challenges Peterborough's Kyle Vassell in a keenly-contested clash . Bristol City, who beat Nigel Clough’s men on the opening day, were held to a goalless draw by last season's play-off finalists Leyton Orient while Chesterfield, the League Two champions, were beaten 1-0 by MK Dons, who play Manchester United in the Capital One Cup in seven days’ time. Arsenal loanee Benik Afobe scored the only goal of the game just after the break. Meanwhile, Crawley lost their unbeaten status, while Bradford maintained theirs, thanks to a 3-1 win for the Bantams. James Hanson became the first player to score against Crawley this season after 49 minutes before Joe Walsh equalised five minutes later. Heads up: Bristol City's Korey Smith (left) and Leyton Orient's Lloyd James go up for a header . But strikes from Billy Knott and Mason Bennett sealed an impressive away win Phil Parkinson's men. Bradford are now second behind Fleetwood after Doncaster’s stoppage-time equaliser meant Preston, for whom Joe Garner signed a new contract earlier on Tuesday, were held to a 1-1 draw which slipped them down the table. Chris Humphrey looked to have secured the points for the Lilywhites but Nathan Tyson struck a last-gasp leveller. Stand-in striker Matt Done scored a hat-trick for Rochdale in the evening’s high-scoring affair as Crewe were hammered 5-2. Marcus Haber marked his full Railwaymen debut with a brace but Done’s treble and goals from Ian Henderson and Peter Vincenti helped Keith Hill’s men to a big away victory. There were plenty of goals between Coventry and Barnsley too in a 2-2 draw with all four goals coming in the first half. Josh McQuoid and Jordan Clarke twice gave the Sky Blues the lead, but the Tykes earned a point thanks to strikes from Conor Hourihane and Leroy Lita. Notts County recorded a 2-1 home win over Colchester with Ronan Murray and Liam Noble on target. Freddie Sears replied for Colchester. James Wilson's second half equaliser earned Oldham a points against Port Vale after Tom Pope's opener and Yeovil claimed a 2-1 away victory at Walsall with Kevin Dawson striking a late winner. Tom Bradshaw had equalised after veteran James Hayter gave the Glovers the lead. Finally, Swindon held Gillingham to a 2-2 draw thanks to Stephen Bywater’s last-minute own goal. Danny Kedwell and Kortney Hause twice gave the Gills the lead but Andy Williams pulled Swindon level before Bywater dropped Raphael Branco's cross into his own net.\n",
      "Article Cleaned:\n",
      " Fleetwood are the only team still to have a 100% record in Sky Bet League One as a 2 0 win over Scunthorpe sent Graham Alexander’s men top of the table. The Cod Army are playing in the third tier for the first time in their history after six promotions in nine years and their remarkable ascent shows no sign of slowing with Jamie Proctor and Gareth Evans scoring the goals at Glanford Park. Fleetwood were one of five teams to have won two out of two but the other four clubs Peterborough Bristol City Chesterfield and Crawley all hit their first stumbling blocks. Posh were defeated 2 1 by Sheffield United who had lost both of their opening contests. Jose Baxter’s opener gave the Blades a first half lead and although it was later cancelled out by Shaun Brisley’s goal Ben Davies snatched a winner six minutes from time. In the lead Jose Baxter right celebrates opening the scoring for Sheffield United . Up for the battle Sheffield United s Michael Doyle left challenges Peterborough s Kyle Vassell in a keenly contested clash . Bristol City who beat Nigel Clough’s men on the opening day were held to a goalless draw by last season s play off finalists Leyton Orient while Chesterfield the League Two champions were beaten 1 0 by MK Dons who play Manchester United in the Capital One Cup in seven days’ time. Arsenal loanee Benik Afobe scored the only goal of the game just after the break. Meanwhile Crawley lost their unbeaten status while Bradford maintained theirs thanks to a 3 1 win for the Bantams. James Hanson became the first player to score against Crawley this season after 49 minutes before Joe Walsh equalised five minutes later. Heads up Bristol City s Korey Smith left and Leyton Orient s Lloyd James go up for a header . But strikes from Billy Knott and Mason Bennett sealed an impressive away win Phil Parkinson s men. Bradford are now second behind Fleetwood after Doncaster’s stoppage time equaliser meant Preston for whom Joe Garner signed a new contract earlier on Tuesday were held to a 1 1 draw which slipped them down the table. Chris Humphrey looked to have secured the points for the Lilywhites but Nathan Tyson struck a last gasp leveller. Stand in striker Matt Done scored a hat trick for Rochdale in the evening’s high scoring affair as Crewe were hammered 5 2. Marcus Haber marked his full Railwaymen debut with a brace but Done’s treble and goals from Ian Henderson and Peter Vincenti helped Keith Hill’s men to a big away victory. There were plenty of goals between Coventry and Barnsley too in a 2 2 draw with all four goals coming in the first half. Josh McQuoid and Jordan Clarke twice gave the Sky Blues the lead but the Tykes earned a point thanks to strikes from Conor Hourihane and Leroy Lita. Notts County recorded a 2 1 home win over Colchester with Ronan Murray and Liam Noble on target. Freddie Sears replied for Colchester. James Wilson s second half equaliser earned Oldham a points against Port Vale after Tom Pope s opener and Yeovil claimed a 2 1 away victory at Walsall with Kevin Dawson striking a late winner. Tom Bradshaw had equalised after veteran James Hayter gave the Glovers the lead. Finally Swindon held Gillingham to a 2 2 draw thanks to Stephen Bywater’s last minute own goal. Danny Kedwell and Kortney Hause twice gave the Gills the lead but Andy Williams pulled Swindon level before Bywater dropped Raphael Branco s cross into his own net.\n"
     ]
    }
   ],
   "source": [
    "print('Article:\\n', sample_train_df.iloc[4]['article'])\n",
    "print('Article Cleaned:\\n', sample_train_df.iloc[4]['article_cleaned'])"
   ]
  },
  {
   "cell_type": "code",
   "execution_count": 13,
   "id": "0fad48f7",
   "metadata": {},
   "outputs": [],
   "source": [
    "sample_train_df = sample_train_df.drop(['article'], axis=1)\n",
    "sample_train_df.rename(columns = {'article_cleaned':'article'}, inplace = True) "
   ]
  },
  {
   "cell_type": "code",
   "execution_count": 14,
   "id": "615757a0",
   "metadata": {},
   "outputs": [],
   "source": [
    "#Save preprocessed train data for fine tuning models\n",
    "sample_train_df.to_csv('./input/train_cleaned.csv')\n",
    "logging.info(f\"Cleaned Train dataset saved into './input/train_cleaned.csv' file \")"
   ]
  },
  {
   "cell_type": "code",
   "execution_count": 15,
   "id": "0ea25c6a",
   "metadata": {},
   "outputs": [
    {
     "data": {
      "text/html": [
       "<div>\n",
       "<style scoped>\n",
       "    .dataframe tbody tr th:only-of-type {\n",
       "        vertical-align: middle;\n",
       "    }\n",
       "\n",
       "    .dataframe tbody tr th {\n",
       "        vertical-align: top;\n",
       "    }\n",
       "\n",
       "    .dataframe thead th {\n",
       "        text-align: right;\n",
       "    }\n",
       "</style>\n",
       "<table border=\"1\" class=\"dataframe\">\n",
       "  <thead>\n",
       "    <tr style=\"text-align: right;\">\n",
       "      <th></th>\n",
       "      <th>id</th>\n",
       "      <th>article</th>\n",
       "      <th>highlights</th>\n",
       "    </tr>\n",
       "  </thead>\n",
       "  <tbody>\n",
       "    <tr>\n",
       "      <th>0</th>\n",
       "      <td>92c514c913c0bdfe25341af9fd72b29db544099b</td>\n",
       "      <td>Ever noticed how plane seats appear to be gett...</td>\n",
       "      <td>Experts question if  packed out planes are put...</td>\n",
       "    </tr>\n",
       "    <tr>\n",
       "      <th>1</th>\n",
       "      <td>2003841c7dc0e7c5b1a248f9cd536d727f27a45a</td>\n",
       "      <td>A drunk teenage boy had to be rescued by secur...</td>\n",
       "      <td>Drunk teenage boy climbed into lion enclosure ...</td>\n",
       "    </tr>\n",
       "    <tr>\n",
       "      <th>2</th>\n",
       "      <td>91b7d2311527f5c2b63a65ca98d21d9c92485149</td>\n",
       "      <td>Dougie Freedman is on the verge of agreeing a ...</td>\n",
       "      <td>Nottingham Forest are close to extending Dougi...</td>\n",
       "    </tr>\n",
       "    <tr>\n",
       "      <th>3</th>\n",
       "      <td>caabf9cbdf96eb1410295a673e953d304391bfbb</td>\n",
       "      <td>Liverpool target Neto is also wanted by PSG an...</td>\n",
       "      <td>Fiorentina goalkeeper Neto has been linked wit...</td>\n",
       "    </tr>\n",
       "    <tr>\n",
       "      <th>4</th>\n",
       "      <td>3da746a7d9afcaa659088c8366ef6347fe6b53ea</td>\n",
       "      <td>Bruce Jenner will break his silence in a two-h...</td>\n",
       "      <td>Tell-all interview with the reality TV star, 6...</td>\n",
       "    </tr>\n",
       "  </tbody>\n",
       "</table>\n",
       "</div>"
      ],
      "text/plain": [
       "                                         id  \\\n",
       "0  92c514c913c0bdfe25341af9fd72b29db544099b   \n",
       "1  2003841c7dc0e7c5b1a248f9cd536d727f27a45a   \n",
       "2  91b7d2311527f5c2b63a65ca98d21d9c92485149   \n",
       "3  caabf9cbdf96eb1410295a673e953d304391bfbb   \n",
       "4  3da746a7d9afcaa659088c8366ef6347fe6b53ea   \n",
       "\n",
       "                                             article  \\\n",
       "0  Ever noticed how plane seats appear to be gett...   \n",
       "1  A drunk teenage boy had to be rescued by secur...   \n",
       "2  Dougie Freedman is on the verge of agreeing a ...   \n",
       "3  Liverpool target Neto is also wanted by PSG an...   \n",
       "4  Bruce Jenner will break his silence in a two-h...   \n",
       "\n",
       "                                          highlights  \n",
       "0  Experts question if  packed out planes are put...  \n",
       "1  Drunk teenage boy climbed into lion enclosure ...  \n",
       "2  Nottingham Forest are close to extending Dougi...  \n",
       "3  Fiorentina goalkeeper Neto has been linked wit...  \n",
       "4  Tell-all interview with the reality TV star, 6...  "
      ]
     },
     "execution_count": 15,
     "metadata": {},
     "output_type": "execute_result"
    }
   ],
   "source": [
    "logging.info(f\"Cleaning Test dataset\")\n",
    "sample_test_df = test_df\n",
    "sample_test_df.head()"
   ]
  },
  {
   "cell_type": "code",
   "execution_count": 16,
   "id": "0dd48a49",
   "metadata": {},
   "outputs": [],
   "source": [
    "sample_test_df['article_cleaned'] = sample_test_df['article'].apply(preprocessor.run)"
   ]
  },
  {
   "cell_type": "code",
   "execution_count": 17,
   "id": "d9862316",
   "metadata": {},
   "outputs": [
    {
     "name": "stdout",
     "output_type": "stream",
     "text": [
      "Article:\n",
      " Bruce Jenner will break his silence in a two-hour interview with Diane Sawyer later this month. The former Olympian and reality TV star, 65, will speak in a 'far-ranging' interview with Sawyer for a special edition of '20/20' on Friday April 24, ABC News announced on Monday. The interview comes amid growing speculation about the father-of-six's transition to a woman, and follows closely behind his involvement in a deadly car crash in California in February. And while the Kardashian women are known for enjoying center stage, they will not be stealing Bruce's spotlight because they will be in Armenia when the interview airs, according to TMZ. Scroll down for video . Speaking out: Bruce Jenner, pictured on 'Keeping Up with the Kardashians' will speak out in a 'far-ranging' interview with Diane Sawyer later this month, ABC News announced on Monday . Return: Diane Sawyer, who recently mourned the loss of her husband, will return to ABC for the interview . Rumors started swirling around Jenner's gender identity last year, when he emerged from a Beverly Hills clinic with his Adam's apple shaved down. His behavior over the past year also fueled speculation as he began embracing an increasingly female appearance, including growing out his hair, shaving his legs and painting his nails, while reportedly undergoing hormone therapy. He also split from with his wife of more than two decades, Kris Jenner, with whom he has two daughters, Kyle and Kendall. She filed for divorce in September 2014, citing 'irreconcilable differences'. Reports also emerged over the past week that he has received a breast enhancement. 'Bruce had silicone breast implants put in a few weeks ago,' a source told RadarOnline. 'He went with a smaller implant because he didn't want to look ridiculous.' On Sunday, he was seen walking to his car in Malibu but hid his body beneath a bulky sweatshirt. Out and about: Jenner was pictured walking back to his car in Malibu on the weekend and hiding beneath a large sweatshirt on Sunday, days after reports that he had undergone a breast enhancement . Hiding: He also apparently had painted his nails red when he was seen walking on Sunday . According to Radar, Jenner wants to have all surgeries completed in time to make his on-screen debut as a woman on the fall season of 'Dancing with the Stars'. Jenner is also rumored to be filming a spin-off docu-series about the transition on E!, although his reps have refused to confirm the claims. While Jenner himself has remained silent about his reported transition, some of his relatives, including step-daughter Kim Kardashian, have spoken about about his 'journey'. 'I guess I'll kind of let everyone be curious and I feel like that's his journey to talk about,' Kim recently told Entertainment Tonight. 'I will say that I think Bruce should tell his story his way. I think everyone goes through things in life and I think that story and what Bruce is going through, I think he'll share whenever the time is right.' Jenner, who won gold in the decathlon at the 1976 Olympics, also made headlines earlier this year for his involvement in a deadly car crash in Malibu. Deadly: In February, Jenner's vehicle, which was pulling a trailer and an ATV (seen right) rear-ended a woman's car (left) and pushed it into the lane of an oncoming Hummer. She died at the scene . By his side: Bruce, pictured with his ex-wife Kris Jenner and four of his step-children (from left) Rob, Kim, Kourtney and Khloe, has received support from his family. Kris filed for divorce from him last year . His Cadillac Escalade, which was pulling a trailer and off-road vehicle, plowed into the back of a Lexus and pushed it into the path of an oncoming Hummer on February 7. The Lexus was carrying 69-year-old Kim Howe, who died from chest trauma at the scene. Police sources say Jenner is unlikely to be prosecuted because he wasn't drinking, speeding or texting at the time of the fatal crash. His tell-all interview will also be one of Sawyer's first forays back to TV news following the death of her husband, acclaimed director Mike Nichols, following a heart attack last November. Last September, she left the anchor chair of ABC World News and announced that she planned to focus on specials. In February, she presented 'A Nation of Women Behind Bars', in which she went to prisons across the country to speak with female inmates.\n",
      "Article Cleaned:\n",
      " Bruce Jenner will break his silence in a two hour interview with Diane Sawyer later this month. The former Olympian and reality TV star 65 will speak in a far ranging interview with Sawyer for a special edition of 20/20 on Friday April 24 ABC News announced on Monday. The interview comes amid growing speculation about the father of six s transition to a woman and follows closely behind his involvement in a deadly car crash in California in February. And while the Kardashian women are known for enjoying center stage they will not be stealing Bruce s spotlight because they will be in Armenia when the interview airs according to TMZ. Scroll down for video . Speaking out Bruce Jenner pictured on Keeping Up with the Kardashians will speak out in a far ranging interview with Diane Sawyer later this month ABC News announced on Monday . Return Diane Sawyer who recently mourned the loss of her husband will return to ABC for the interview . Rumors started swirling around Jenner s gender identity last year when he emerged from a Beverly Hills clinic with his Adam s apple shaved down. His behavior over the past year also fueled speculation as he began embracing an increasingly female appearance including growing out his hair shaving his legs and painting his nails while reportedly undergoing hormone therapy. He also split from with his wife of more than two decades Kris Jenner with whom he has two daughters Kyle and Kendall. She filed for divorce in September 2014 citing irreconcilable differences . Reports also emerged over the past week that he has received a breast enhancement. Bruce had silicone breast implants put in a few weeks ago a source told RadarOnline. He went with a smaller implant because he did not want to look ridiculous. On Sunday he was seen walking to his car in Malibu but hid his body beneath a bulky sweatshirt. Out and about Jenner was pictured walking back to his car in Malibu on the weekend and hiding beneath a large sweatshirt on Sunday days after reports that he had undergone a breast enhancement . Hiding He also apparently had painted his nails red when he was seen walking on Sunday . According to Radar Jenner wants to have all surgeries completed in time to make his on screen debut as a woman on the fall season of Dancing with the Stars . Jenner is also rumored to be filming a spin off docu series about the transition on E! although his reps have refused to confirm the claims. While Jenner himself has remained silent about his reported transition some of his relatives including step daughter Kim Kardashian have spoken about about his journey . I guess I will kind of let everyone be curious and I feel like that s his journey to talk about Kim recently told Entertainment Tonight. I will say that I think Bruce should tell his story his way. I think everyone goes through things in life and I think that story and what Bruce is going through I think he will share whenever the time is right. Jenner who won gold in the decathlon at the 1976 Olympics also made headlines earlier this year for his involvement in a deadly car crash in Malibu. Deadly In February Jenner s vehicle which was pulling a trailer and an ATV seen right rear ended a woman s car left and pushed it into the lane of an oncoming Hummer. She died at the scene . By his side Bruce pictured with his ex wife Kris Jenner and four of his step children from left Rob Kim Kourtney and Khloe has received support from his family. Kris filed for divorce from him last year . His Cadillac Escalade which was pulling a trailer and off road vehicle plowed into the back of a Lexus and pushed it into the path of an oncoming Hummer on February 7. The Lexus was carrying 69 year old Kim Howe who died from chest trauma at the scene. Police sources say Jenner is unlikely to be prosecuted because he wasn t drinking speeding or texting at the time of the fatal crash. His tell all interview will also be one of Sawyer s first forays back to TV news following the death of her husband acclaimed director Mike Nichols following a heart attack last November. Last September she left the anchor chair of ABC World News and announced that she planned to focus on specials. In February she presented A Nation of Women Behind Bars in which she went to prisons across the country to speak with female inmates.\n"
     ]
    }
   ],
   "source": [
    "print('Article:\\n', sample_test_df.iloc[4]['article'])\n",
    "print('Article Cleaned:\\n', sample_test_df.iloc[4]['article_cleaned'])"
   ]
  },
  {
   "cell_type": "code",
   "execution_count": 18,
   "id": "e4a75a78",
   "metadata": {},
   "outputs": [],
   "source": [
    "sample_test_df = sample_test_df.drop(['article'], axis=1)\n",
    "sample_test_df.rename(columns = {'article_cleaned':'article'}, inplace = True) "
   ]
  },
  {
   "cell_type": "code",
   "execution_count": 19,
   "id": "5b635950",
   "metadata": {},
   "outputs": [],
   "source": [
    "#Save preprocessed train data for fine tuning models\n",
    "sample_test_df.to_csv('./input/test_cleaned.csv')\n",
    "logging.info(f\"Cleaned Test dataset saved into './input/test_cleaned.csv' file \")"
   ]
  },
  {
   "cell_type": "code",
   "execution_count": 20,
   "id": "b06cafe9",
   "metadata": {},
   "outputs": [
    {
     "data": {
      "text/html": [
       "<div>\n",
       "<style scoped>\n",
       "    .dataframe tbody tr th:only-of-type {\n",
       "        vertical-align: middle;\n",
       "    }\n",
       "\n",
       "    .dataframe tbody tr th {\n",
       "        vertical-align: top;\n",
       "    }\n",
       "\n",
       "    .dataframe thead th {\n",
       "        text-align: right;\n",
       "    }\n",
       "</style>\n",
       "<table border=\"1\" class=\"dataframe\">\n",
       "  <thead>\n",
       "    <tr style=\"text-align: right;\">\n",
       "      <th></th>\n",
       "      <th>id</th>\n",
       "      <th>article</th>\n",
       "      <th>highlights</th>\n",
       "    </tr>\n",
       "  </thead>\n",
       "  <tbody>\n",
       "    <tr>\n",
       "      <th>0</th>\n",
       "      <td>61df4979ac5fcc2b71be46ed6fe5a46ce7f071c3</td>\n",
       "      <td>Sally Forrest, an actress-dancer who graced th...</td>\n",
       "      <td>Sally Forrest, an actress-dancer who graced th...</td>\n",
       "    </tr>\n",
       "    <tr>\n",
       "      <th>1</th>\n",
       "      <td>21c0bd69b7e7df285c3d1b1cf56d4da925980a68</td>\n",
       "      <td>A middle-school teacher in China has inked hun...</td>\n",
       "      <td>Works include pictures of Presidential Palace ...</td>\n",
       "    </tr>\n",
       "    <tr>\n",
       "      <th>2</th>\n",
       "      <td>56f340189cd128194b2e7cb8c26bb900e3a848b4</td>\n",
       "      <td>A man convicted of killing the father and sist...</td>\n",
       "      <td>Iftekhar Murtaza, 29, was convicted a year ago...</td>\n",
       "    </tr>\n",
       "    <tr>\n",
       "      <th>3</th>\n",
       "      <td>00a665151b89a53e5a08a389df8334f4106494c2</td>\n",
       "      <td>Avid rugby fan Prince Harry could barely watch...</td>\n",
       "      <td>Prince Harry in attendance for England's crunc...</td>\n",
       "    </tr>\n",
       "    <tr>\n",
       "      <th>4</th>\n",
       "      <td>9f6fbd3c497c4d28879bebebea220884f03eb41a</td>\n",
       "      <td>A Triple M Radio producer has been inundated w...</td>\n",
       "      <td>Nick Slater's colleagues uploaded a picture to...</td>\n",
       "    </tr>\n",
       "  </tbody>\n",
       "</table>\n",
       "</div>"
      ],
      "text/plain": [
       "                                         id  \\\n",
       "0  61df4979ac5fcc2b71be46ed6fe5a46ce7f071c3   \n",
       "1  21c0bd69b7e7df285c3d1b1cf56d4da925980a68   \n",
       "2  56f340189cd128194b2e7cb8c26bb900e3a848b4   \n",
       "3  00a665151b89a53e5a08a389df8334f4106494c2   \n",
       "4  9f6fbd3c497c4d28879bebebea220884f03eb41a   \n",
       "\n",
       "                                             article  \\\n",
       "0  Sally Forrest, an actress-dancer who graced th...   \n",
       "1  A middle-school teacher in China has inked hun...   \n",
       "2  A man convicted of killing the father and sist...   \n",
       "3  Avid rugby fan Prince Harry could barely watch...   \n",
       "4  A Triple M Radio producer has been inundated w...   \n",
       "\n",
       "                                          highlights  \n",
       "0  Sally Forrest, an actress-dancer who graced th...  \n",
       "1  Works include pictures of Presidential Palace ...  \n",
       "2  Iftekhar Murtaza, 29, was convicted a year ago...  \n",
       "3  Prince Harry in attendance for England's crunc...  \n",
       "4  Nick Slater's colleagues uploaded a picture to...  "
      ]
     },
     "execution_count": 20,
     "metadata": {},
     "output_type": "execute_result"
    }
   ],
   "source": [
    "logging.info(f\"Cleaning Validation dataset\")\n",
    "sample_validation_df = validation_df\n",
    "sample_validation_df.head()"
   ]
  },
  {
   "cell_type": "code",
   "execution_count": 21,
   "id": "ace746ee",
   "metadata": {},
   "outputs": [],
   "source": [
    "sample_validation_df['article_cleaned'] = sample_validation_df['article'].apply(preprocessor.run)"
   ]
  },
  {
   "cell_type": "code",
   "execution_count": 22,
   "id": "e4a41709",
   "metadata": {},
   "outputs": [
    {
     "name": "stdout",
     "output_type": "stream",
     "text": [
      "Article:\n",
      " A Triple M Radio producer has been inundated with messages from prospective partners after a workplace ploy. After Tuesday's Grill Team show, hosts Matty Johns, Mark Geyer and Gus Worland uploaded a picture of 26-year-old Nick Slater to Facebook with a mobile number where people could reach him. In less than 24 hours, he had received over 130 messages from a varied range of male and female listeners, reports News.com. Triple M producer Nick Slater, (C), pictured with his Grill Team hosts, was flooded with 130 voicemails in 24 hours . Workmates and Grill Team hosts Matty Johns, Mark Geyer and Gus Worland uploaded a picture of 26-year-old Nick Slater to Facebook with a mobile number where people could reach out . The ploy came about after a waitress handed the audio engineer her number while out at some work drinks. Unconvinced it was a one off, his colleagues decided to put it to the test and see if anyone else was romantically interested in him. 'The Producers had a few drinks on Friday & Handsome Nick got a number off the waitress in the first 10 minutes!' 'We don't believe him that this never happens to him. Here's Nicks number...let's see how many calls he gets!' Slater received a torrent of voicemails, ranging from date proposals to 'heavy panting' 26-year-old Slater, a sound engineer, and his Triple M Grill Team workmates . In the following 24 hours Slater received a torrent of voicemails, ranging from date proposals to 'heavy panting.' 'There was a wide range of messages from some nice girls and a few nice blokes as well. There was even a grandma in there too.,' he said. 'We went through and listened to most of them. It was mostly people looking for lust, telling me to give them a call … it was all good fun.' Slater said his long-term girlfriend Kimberley understood of the station's antics, and she found the gag 'hilarious.' Slater said his long-term girlfriend Kimberley (pictured)  found the umber ploy 'hilarious .\n",
      "Article Cleaned:\n",
      " A Triple M Radio producer has been inundated with messages from prospective partners after a workplace ploy. After Tuesday s Grill Team show hosts Matty Johns Mark Geyer and Gus Worland uploaded a picture of 26 year old Nick Slater to Facebook with a mobile number where people could reach him. In less than 24 hours he had received over 130 messages from a varied range of male and female listeners reports News.com. Triple M producer Nick Slater C pictured with his Grill Team hosts was flooded with 130 voicemails in 24 hours . Workmates and Grill Team hosts Matty Johns Mark Geyer and Gus Worland uploaded a picture of 26 year old Nick Slater to Facebook with a mobile number where people could reach out . The ploy came about after a waitress handed the audio engineer her number while out at some work drinks. Unconvinced it was a one off his colleagues decided to put it to the test and see if anyone else was romantically interested in him. The Producers had a few drinks on Friday & Handsome Nick got a number off the waitress in the first 10 minutes! We do not believe him that this never happens to him. Here s Nicks number...let us see how many calls he gets! Slater received a torrent of voicemails ranging from date proposals to heavy panting 26 year old Slater a sound engineer and his Triple M Grill Team workmates . In the following 24 hours Slater received a torrent of voicemails ranging from date proposals to heavy panting. There was a wide range of messages from some nice girls and a few nice blokes as well. There was even a grandma in there too. he said. We went through and listened to most of them. It was mostly people looking for lust telling me to give them a call ... it was all good fun. Slater said his long term girlfriend Kimberley understood of the station s antics and she found the gag hilarious. Slater said his long term girlfriend Kimberley pictured found the umber ploy hilarious .\n"
     ]
    }
   ],
   "source": [
    "print('Article:\\n', sample_validation_df.iloc[4]['article'])\n",
    "print('Article Cleaned:\\n', sample_validation_df.iloc[4]['article_cleaned'])"
   ]
  },
  {
   "cell_type": "code",
   "execution_count": 23,
   "id": "ad3fcb56",
   "metadata": {},
   "outputs": [],
   "source": [
    "sample_validation_df = sample_validation_df.drop(['article'], axis=1)\n",
    "sample_validation_df.rename(columns = {'article_cleaned':'article'}, inplace = True) "
   ]
  },
  {
   "cell_type": "code",
   "execution_count": 24,
   "id": "191014f2",
   "metadata": {},
   "outputs": [],
   "source": [
    "#Save preprocessed train data for fine tuning models\n",
    "sample_validation_df.to_csv('./input/validation_cleaned.csv')\n",
    "logging.info(f\"Cleaned Validation dataset saved into './input/validation_cleaned.csv' file \")"
   ]
  },
  {
   "cell_type": "code",
   "execution_count": 25,
   "id": "f34831f8",
   "metadata": {},
   "outputs": [],
   "source": [
    "logging.info(\"Data Preprocessing Completed \")"
   ]
  },
  {
   "cell_type": "code",
   "execution_count": 27,
   "id": "daef3a0e",
   "metadata": {},
   "outputs": [
    {
     "data": {
      "text/plain": [
       "(287113, 4)"
      ]
     },
     "execution_count": 27,
     "metadata": {},
     "output_type": "execute_result"
    }
   ],
   "source": [
    "df = pd.read_csv('./input/train_cleaned.csv')\n",
    "df.head(3)"
   ]
  },
  {
   "cell_type": "code",
   "execution_count": null,
   "id": "4f09bc3c",
   "metadata": {},
   "outputs": [],
   "source": []
  }
 ],
 "metadata": {
  "kernelspec": {
   "display_name": "Python 3 (ipykernel)",
   "language": "python",
   "name": "python3"
  },
  "language_info": {
   "codemirror_mode": {
    "name": "ipython",
    "version": 3
   },
   "file_extension": ".py",
   "mimetype": "text/x-python",
   "name": "python",
   "nbconvert_exporter": "python",
   "pygments_lexer": "ipython3",
   "version": "3.11.5"
  }
 },
 "nbformat": 4,
 "nbformat_minor": 5
}
